{
 "cells": [
  {
   "cell_type": "code",
   "execution_count": 2,
   "metadata": {},
   "outputs": [
    {
     "data": {
      "text/plain": [
       "Index(['CNPJ', 'RAZAO_SOCIAL', 'NOME_FANTASIA', 'RUA', 'NUMERO', 'COMPLEMENTO',\n",
       "       'BAIRRO', 'CIDADE', 'ESTADO', 'CEP', 'LATITUDE', 'LONGITUDE',\n",
       "       'TELEFONE1', 'SITE', 'CNAE_DESCRICAO', 'HORARIO_FUNCIONAMENTO',\n",
       "       'INSTAGRAM', 'FACEBOOK', 'OPCOES_DE_SERVICO', 'SITUACAO_CADASTRAL',\n",
       "       'DATA_SITUACAO_CADASTRAL'],\n",
       "      dtype='object')"
      ]
     },
     "execution_count": 2,
     "metadata": {},
     "output_type": "execute_result"
    }
   ],
   "source": [
    "import pandas as pd\n",
    "import sqlalchemy\n",
    "dados = pd.read_parquet('br_base\\Restaurantes e similares.gzip')\n",
    "dados.columns"
   ]
  },
  {
   "cell_type": "code",
   "execution_count": 30,
   "metadata": {},
   "outputs": [
    {
     "data": {
      "text/html": [
       "<div>\n",
       "<style scoped>\n",
       "    .dataframe tbody tr th:only-of-type {\n",
       "        vertical-align: middle;\n",
       "    }\n",
       "\n",
       "    .dataframe tbody tr th {\n",
       "        vertical-align: top;\n",
       "    }\n",
       "\n",
       "    .dataframe thead th {\n",
       "        text-align: right;\n",
       "    }\n",
       "</style>\n",
       "<table border=\"1\" class=\"dataframe\">\n",
       "  <thead>\n",
       "    <tr style=\"text-align: right;\">\n",
       "      <th></th>\n",
       "      <th>DATA_SITUACAO_CADASTRAL</th>\n",
       "      <th>TOTAL</th>\n",
       "    </tr>\n",
       "  </thead>\n",
       "  <tbody>\n",
       "    <tr>\n",
       "      <th>0</th>\n",
       "      <td>20221123</td>\n",
       "      <td>3532</td>\n",
       "    </tr>\n",
       "    <tr>\n",
       "      <th>1</th>\n",
       "      <td>20200318</td>\n",
       "      <td>169</td>\n",
       "    </tr>\n",
       "    <tr>\n",
       "      <th>2</th>\n",
       "      <td>20200422</td>\n",
       "      <td>112</td>\n",
       "    </tr>\n",
       "    <tr>\n",
       "      <th>3</th>\n",
       "      <td>20230124</td>\n",
       "      <td>329</td>\n",
       "    </tr>\n",
       "    <tr>\n",
       "      <th>4</th>\n",
       "      <td>20200707</td>\n",
       "      <td>136</td>\n",
       "    </tr>\n",
       "    <tr>\n",
       "      <th>...</th>\n",
       "      <td>...</td>\n",
       "      <td>...</td>\n",
       "    </tr>\n",
       "    <tr>\n",
       "      <th>6857</th>\n",
       "      <td>20101006</td>\n",
       "      <td>22</td>\n",
       "    </tr>\n",
       "    <tr>\n",
       "      <th>6858</th>\n",
       "      <td>20120405</td>\n",
       "      <td>6</td>\n",
       "    </tr>\n",
       "    <tr>\n",
       "      <th>6859</th>\n",
       "      <td>20070514</td>\n",
       "      <td>9</td>\n",
       "    </tr>\n",
       "    <tr>\n",
       "      <th>6860</th>\n",
       "      <td>20051222</td>\n",
       "      <td>9</td>\n",
       "    </tr>\n",
       "    <tr>\n",
       "      <th>6861</th>\n",
       "      <td>20080415</td>\n",
       "      <td>11</td>\n",
       "    </tr>\n",
       "  </tbody>\n",
       "</table>\n",
       "<p>6862 rows × 2 columns</p>\n",
       "</div>"
      ],
      "text/plain": [
       "     DATA_SITUACAO_CADASTRAL  TOTAL\n",
       "0                   20221123   3532\n",
       "1                   20200318    169\n",
       "2                   20200422    112\n",
       "3                   20230124    329\n",
       "4                   20200707    136\n",
       "...                      ...    ...\n",
       "6857                20101006     22\n",
       "6858                20120405      6\n",
       "6859                20070514      9\n",
       "6860                20051222      9\n",
       "6861                20080415     11\n",
       "\n",
       "[6862 rows x 2 columns]"
      ]
     },
     "execution_count": 30,
     "metadata": {},
     "output_type": "execute_result"
    }
   ],
   "source": [
    "import duckdb\n",
    "\n",
    "# Criando um objeto duckdb\n",
    "duck = duckdb.connect()\n",
    "\n",
    "# consulta\n",
    "query = \"\"\"\n",
    "SELECT DATA_SITUACAO_CADASTRAL, \n",
    "COUNT(*) as TOTAL\n",
    "FROM dados \n",
    "WHERE CNAE_DESCRICAO = 'RESTAURANTES E SIMILARES'\n",
    "GROUP BY DATA_SITUACAO_CADASTRAL;\n",
    "\"\"\"\n",
    "\n",
    "# Exemplo de consulta SQL usando duckdb\n",
    "resultado = duck.query(query).df()\n",
    "\n",
    "resultado"
   ]
  },
  {
   "cell_type": "code",
   "execution_count": 43,
   "metadata": {},
   "outputs": [
    {
     "data": {
      "text/plain": [
       "'20230211'"
      ]
     },
     "execution_count": 43,
     "metadata": {},
     "output_type": "execute_result"
    }
   ],
   "source": [
    "ultima_alteracao = duck.query(\"\"\"\n",
    "SELECT DATA_SITUACAO_CADASTRAL \n",
    "FROM dados\n",
    "ORDER BY DATA_SITUACAO_CADASTRAL DESC\n",
    "LIMIT 1;\n",
    "\"\"\").fetchone()[0]\n",
    "\n",
    "ultima_alteracao"
   ]
  },
  {
   "cell_type": "code",
   "execution_count": 3,
   "metadata": {},
   "outputs": [
    {
     "name": "stdout",
     "output_type": "stream",
     "text": [
      "['RESTAURANTES E SIMILARES']\n"
     ]
    }
   ],
   "source": [
    "print(dados['CNAE_DESCRICAO'].unique())"
   ]
  }
 ],
 "metadata": {
  "kernelspec": {
   "display_name": ".venv",
   "language": "python",
   "name": "python3"
  },
  "language_info": {
   "codemirror_mode": {
    "name": "ipython",
    "version": 3
   },
   "file_extension": ".py",
   "mimetype": "text/x-python",
   "name": "python",
   "nbconvert_exporter": "python",
   "pygments_lexer": "ipython3",
   "version": "3.9.10"
  },
  "orig_nbformat": 4
 },
 "nbformat": 4,
 "nbformat_minor": 2
}
