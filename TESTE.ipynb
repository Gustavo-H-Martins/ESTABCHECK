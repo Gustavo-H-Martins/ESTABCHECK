{
 "cells": [
  {
   "cell_type": "code",
   "execution_count": 3,
   "metadata": {},
   "outputs": [],
   "source": [
    "import os\n",
    "\n",
    "# Diretórios\n",
    "\n",
    "diretorio_estabelecimentos = r'C:\\Users\\ABRASEL NACIONAL\\Documents\\GitHub\\ESTABCHECK\\base_csv_estabelecimentos/'\n",
    "all_files_estabelecimentos = list(filter(lambda x: '.csv' in x, os.listdir(diretorio_estabelecimentos)))\n",
    "diretorio_empresa = r'C:\\Users\\ABRASEL NACIONAL\\Documents\\GitHub\\ESTABCHECK\\base_csv_empresas/'\n",
    "all_files_empresa =  list(filter(lambda x: '.csv' in x, os.listdir(diretorio_empresa)))"
   ]
  },
  {
   "cell_type": "code",
   "execution_count": null,
   "metadata": {},
   "outputs": [],
   "source": [
    "import pandas as pd\n",
    "import sqlalchemy\n",
    "dados = pd.read_parquet('br_base\\Restaurantes e similares.gzip')\n",
    "dados.columns"
   ]
  },
  {
   "cell_type": "code",
   "execution_count": null,
   "metadata": {},
   "outputs": [],
   "source": [
    "import duckdb\n",
    "\n",
    "# Criando um objeto duckdb\n",
    "duck = duckdb.connect()\n",
    "\n",
    "# consulta\n",
    "query = \"\"\"\n",
    "SELECT DATA_SITUACAO_CADASTRAL, \n",
    "COUNT(*) as TOTAL\n",
    "FROM dados \n",
    "WHERE CNAE_DESCRICAO = 'RESTAURANTES E SIMILARES'\n",
    "GROUP BY DATA_SITUACAO_CADASTRAL;\n",
    "\"\"\"\n",
    "\n",
    "# Exemplo de consulta SQL usando duckdb\n",
    "resultado = duck.query(query).df()\n",
    "\n",
    "resultado"
   ]
  },
  {
   "cell_type": "code",
   "execution_count": null,
   "metadata": {},
   "outputs": [],
   "source": [
    "ultima_alteracao = duck.query(\"\"\"\n",
    "SELECT DATA_SITUACAO_CADASTRAL \n",
    "FROM dados\n",
    "ORDER BY DATA_SITUACAO_CADASTRAL DESC\n",
    "LIMIT 1;\n",
    "\"\"\").fetchone()[0]\n",
    "\n",
    "ultima_alteracao"
   ]
  }
 ],
 "metadata": {
  "kernelspec": {
   "display_name": ".venv",
   "language": "python",
   "name": "python3"
  },
  "language_info": {
   "codemirror_mode": {
    "name": "ipython",
    "version": 3
   },
   "file_extension": ".py",
   "mimetype": "text/x-python",
   "name": "python",
   "nbconvert_exporter": "python",
   "pygments_lexer": "ipython3",
   "version": "3.9.10"
  },
  "orig_nbformat": 4
 },
 "nbformat": 4,
 "nbformat_minor": 2
}
