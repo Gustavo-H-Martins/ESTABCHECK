{
 "cells": [
  {
   "cell_type": "code",
   "execution_count": null,
   "metadata": {},
   "outputs": [],
   "source": [
    "\"\"\"libs\"\"\"\n",
    "import re\n",
    "import os\n",
    "import pandas as pd\n",
    "import sqlite3\n",
    "\n",
    "\n",
    "br_conn = sqlite3.connect(\"./database/br_base_cnpj.db\")\n",
    "cadastrur_file = (\"./database/CADASTUR_SIGA_SIMPLES_APPLE.xlsx\")\n",
    "# obteendo o caminho do diretório atual e construindo o caminho do arquivo a partir dele\n",
    "current_dir = os.getcwd()"
   ]
  },
  {
   "cell_type": "code",
   "execution_count": null,
   "metadata": {},
   "outputs": [],
   "source": [
    "# lendo os dados do cadastrur\n",
    "cadastrur_dados = pd.read_excel(cadastrur_file, dtype='string')"
   ]
  },
  {
   "cell_type": "code",
   "execution_count": null,
   "metadata": {},
   "outputs": [],
   "source": [
    "cadastrur_dados.rename(columns={'NúmerodeInscriçãodoCNPJ':'CNPJ', 'NomedaPessoaJurídica':\"RAZAO_SOCIAL\",\n",
    "       'NomeFantasia':'NOME_FANTASIA', 'SituaçãoCadastral':'SITUACAO_CADASTRAL', 'SituaçãodaAtividade':'SITUACAO_ATIVIDADE',\n",
    "       'TipodeEstabelecimento':\"TIPO_ESTABELECIMENTO\", 'NaturezaJurídica':'NATUREZA_JURIDICA', 'Porte':'PORTE',\n",
    "       'EndereçoCompletoReceitaFederal':'ENDERECO_RFB', 'E - mailComercial':'EMAIL', 'Website':'SITE',\n",
    "       'NúmerodoCertificado':'NUMERO_CERTIFICADO', 'ValidadedoCertificado':'VALIDADE_CERTIFICADO', 'Tipo':'TIPO', 'Especialidade':'ESPECIALIDADE',\n",
    "       'Idiomas':'IDIOMAS', 'TelefoneComercial':'TELEFONE_COMERCIAL', 'Município':'MUNICIPIO',\n",
    "       'EndereçoCompletoComercial':'ENDERECO_COMERCIAL', 'CNAE(S)relacionadosàatividade':'CNAE_ATIVIDADE',\n",
    "       'StatusAssociadosAbrasel':'TIPO_ASSOCIADO'}, inplace=True)\n",
    "cadastrur_dados = cadastrur_dados[[\"CNPJ\", \"RAZAO_SOCIAL\", \"NOME_FANTASIA\", \n",
    "                                   \"SITUACAO_CADASTRAL\", \"SITUACAO_ATIVIDADE\", \"TIPO_ESTABELECIMENTO\", \n",
    "                                   \"NATUREZA_JURIDICA\", \"PORTE\", \"ENDERECO_RFB\", \"EMAIL\", \"SITE\", \n",
    "                                   \"NUMERO_CERTIFICADO\", \"VALIDADE_CERTIFICADO\",  \"TIPO\", \"ESPECIALIDADE\", \n",
    "                                   \"IDIOMAS\", \"UF\", \"TELEFONE_COMERCIAL\", \"MUNICIPIO\",\"ENDERECO_COMERCIAL\", \n",
    "                                   \"CNAE_ATIVIDADE\", \"TIPO_ASSOCIADO\"]]\n",
    "cadastrur_dados.head(1)"
   ]
  },
  {
   "cell_type": "code",
   "execution_count": null,
   "metadata": {},
   "outputs": [],
   "source": [
    "# Verificar se a coluna SITE tem \"@\" e mover o valor para a coluna INSTAGRAM\n",
    "cadastrur_dados.loc[cadastrur_dados[\"SITE\"].str.contains(\"@\"), \"INSTAGRAM\"] = cadastrur_dados[\"SITE\"]\n",
    "cadastrur_dados.loc[cadastrur_dados[\"SITE\"].str.contains(\"@\"), \"SITE\"] = None\n",
    "\n",
    "# Verificar se a coluna SITE tem \"facebook\" e mover o valor para a coluna FACEBOOK\n",
    "cadastrur_dados.loc[cadastrur_dados[\"SITE\"].str.contains(\"facebook\"), \"FACEBOOK\"] = cadastrur_dados[\"SITE\"]\n",
    "cadastrur_dados.loc[cadastrur_dados[\"SITE\"].str.contains(\"facebook\"), \"SITE\"] = None\n",
    "\n",
    "# Mostrar o resultado final\n",
    "cadastrur_dados.columns = cadastrur_dados.columns.str.strip()\n",
    "print(cadastrur_dados[[\"SITE\", \"INSTAGRAM\", \"FACEBOOK\"]])\n"
   ]
  },
  {
   "cell_type": "code",
   "execution_count": null,
   "metadata": {},
   "outputs": [],
   "source": [
    "# lendo nossa base da receita\n",
    "receita_dados = pd.read_sql_query(\"SELECT * FROM estabelecimentos\", br_conn, dtype='string')"
   ]
  },
  {
   "cell_type": "code",
   "execution_count": null,
   "metadata": {},
   "outputs": [],
   "source": [
    "# concatenando os dois dataframes\n",
    "cadastrur_dados['CNPJ'] = cadastrur_dados['CNPJ'].astype('str')\n",
    "receita_dados['CNPJ'] = receita_dados['CNPJ'].astype('str')\n",
    "merge_dados_dados = cadastrur_dados.merge(receita_dados, how='left', on='CNPJ')"
   ]
  },
  {
   "cell_type": "code",
   "execution_count": null,
   "metadata": {},
   "outputs": [],
   "source": [
    "merge_dados_dados.columns"
   ]
  },
  {
   "cell_type": "code",
   "execution_count": null,
   "metadata": {},
   "outputs": [],
   "source": [
    "print(len(merge_dados_dados['CNPJ']))\n",
    "merge_dados_dados.dropna(subset=['LATITUDE', 'LONGITUDE'],inplace=True)\n",
    "merge_dados_dados.rename(columns={\"RAZAO_SOCIAL_x\":\"RAZAO_SOCIAL\", 'NOME_FANTASIA_x':'NOME_FANTASIA', 'SITUACAO_CADASTRAL_x':'SITUACAO_CADASTRAL','INSTAGRAM_x':'INSTAGRAM','FACEBOOK_x': 'FACEBOOK' }, inplace=True)\n",
    "merge_dados_dados = merge_dados_dados[['CNPJ', 'RAZAO_SOCIAL', 'NOME_FANTASIA', 'SITUACAO_CADASTRAL',\n",
    "       'SITUACAO_ATIVIDADE', 'TIPO_ESTABELECIMENTO', 'SITE_x', 'NUMERO_CERTIFICADO', \n",
    "       'TIPO', 'ESPECIALIDADE', 'IDIOMAS', 'UF','TELEFONE_COMERCIAL',\n",
    "       'CNAE_ATIVIDADE', 'TIPO_ASSOCIADO', 'ENDERECO_COMERCIAL', 'RUA', 'NUMERO', 'COMPLEMENTO', 'BAIRRO', 'CIDADE','CEP',\n",
    "       'LATITUDE', 'LONGITUDE','SITE_y', 'CNAE_DESCRICAO','HORARIO_FUNCIONAMENTO', 'INSTAGRAM', 'FACEBOOK', 'OPCOES_DE_SERVICO']]\n",
    "print(len(merge_dados_dados['CNPJ']))\n"
   ]
  },
  {
   "cell_type": "code",
   "execution_count": null,
   "metadata": {},
   "outputs": [],
   "source": [
    "merge_dados_dados.columns"
   ]
  },
  {
   "cell_type": "code",
   "execution_count": null,
   "metadata": {},
   "outputs": [],
   "source": [
    "# Importar o módulo re\n",
    "import re\n",
    "\n",
    "# Definir o padrão que combina os parênteses e usa um grupo de captura para o conteúdo\n",
    "padrao = r\"\\((.*?)\\)\"\n",
    "\n",
    "# Definir o código do país\n",
    "codigo_pais = \"+55\"\n",
    "\n",
    "# Definir a função que adiciona o código do país e remove os parênteses e os hífens\n",
    "def formatar_numero(numero):\n",
    "    # Remover os espaços antes e depois do número\n",
    "    numero = numero.strip()\n",
    "\n",
    "    # Remover os parênteses e capturar o conteúdo\n",
    "    numero = re.sub(padrao, r\"\\1\", numero)\n",
    "    # Remover os hífens\n",
    "    numero = numero.replace(\"-\", \"\")\n",
    "    # Adicionar o código do país no início\n",
    "    numero = codigo_pais + numero\n",
    "    # Retornar o número formatado\n",
    "    return numero\n",
    "\n",
    "# Aplica a função à coluna telefone do dataframe merge_dados_dados\n",
    "merge_dados_dados['TELEFONE_COMERCIAL'] = merge_dados_dados['TELEFONE_COMERCIAL'].apply(formatar_numero)\n",
    "merge_dados_dados['TELEFONE_COMERCIAL']"
   ]
  },
  {
   "cell_type": "code",
   "execution_count": null,
   "metadata": {},
   "outputs": [],
   "source": [
    "# Inclui a coluna urls para busca no googlemaps\n",
    "urls = []\n",
    "for nome_fantasia, uf, cidade, bairro in merge_dados_dados[[\"NOME_FANTASIA\", \"UF\", \"CIDADE\" ,\"BAIRRO\"]].itertuples(index=False):\n",
    "    urls.append(f\"https://www.google.com/maps/search/{nome_fantasia}+{uf}+{cidade}+{bairro}\".replace(' ', '+'))\n",
    "\n",
    "merge_dados_dados[\"URL\"] = urls\n",
    "# renomeia as colunas finais\n",
    "merge_dados_dados.rename(columns={\"CNPJ\":\"EIN (CNPJ)\",\"RAZAO_SOCIAL\":\"CORPORATE_NAME\",\n",
    "                                  \"NOME_FANTASIA\":\"TRADING NAME\",\"RUA\":\"STREET\",\"NUMERO\":\"ADDRESS_NUMBER\",\n",
    "                                  \"COMPLEMENTO\":\"ADDRESS_COMPLEMENT\",\"BAIRRO\":\"DISTRICT\",\"CIDADE\":\"CITY\",\"UF\":\"STATE\",\n",
    "                                  \"CEP\":\"ZIP_CODE\",\"TELEFONE_COMERCIAL\":\"PHONE_NUMBER\", \"SITE_x\":\"SITE\",\"CNAE_DESCRICAO\":\"CATEGORY_(CNAE)\",\n",
    "                                  \"HORARIO_FUNCIONAMENTO\":\"OPENING_HOURS\",\"OPCOES_DE_SERVICO\":\"SERVICE_OPTIONS\"}, inplace=True)\n"
   ]
  },
  {
   "cell_type": "code",
   "execution_count": null,
   "metadata": {},
   "outputs": [],
   "source": [
    "merge_dados_dados.columns\n",
    "# separa as colunas a serem salvas\n",
    "merge_dados_dados = merge_dados_dados[['EIN (CNPJ)', 'TRADING NAME', 'CORPORATE_NAME','STREET', 'ADDRESS_NUMBER', 'ADDRESS_COMPLEMENT',\n",
    "    'DISTRICT', 'CITY','STATE', 'ZIP_CODE', 'LATITUDE', 'LONGITUDE', 'PHONE_NUMBER', 'SITE', 'CATEGORY_(CNAE)', 'TIPO', \n",
    "    'ESPECIALIDADE', 'IDIOMAS', 'OPENING_HOURS', 'INSTAGRAM', 'FACEBOOK', 'SERVICE_OPTIONS', 'URL']]\n",
    "merge_dados_dados"
   ]
  },
  {
   "cell_type": "code",
   "execution_count": null,
   "metadata": {},
   "outputs": [],
   "source": [
    "# Seleciona as linhas de 0 a 4999 (inclusive) e todas as colunas\n",
    "df_recorte = merge_dados_dados.iloc[0:4999, :]\n",
    "\n",
    "# Converte o recorte em um arquivo json com o formato de registros\n",
    "df_recorte.to_json(\"recorte_apple_abrasel.json\", orient=\"records\")\n",
    "df_recorte.count()"
   ]
  },
  {
   "cell_type": "code",
   "execution_count": null,
   "metadata": {},
   "outputs": [],
   "source": [
    "dados_apple = pd.read_json(\"recorte_apple_abrasel.json\")\n",
    "dados_apple.count()"
   ]
  },
  {
   "cell_type": "code",
   "execution_count": 1,
   "metadata": {},
   "outputs": [
    {
     "data": {
      "text/plain": [
       "HORARIO_FUNCIONAMENTO    2433\n",
       "OPCOES_DE_SERVICO        2351\n",
       "URL                      4645\n",
       "dtype: int64"
      ]
     },
     "execution_count": 1,
     "metadata": {},
     "output_type": "execute_result"
    }
   ],
   "source": [
    "import pandas as pd\n",
    "dados = pd.read_csv('recorte_apple_abrasel_complemento.csv', sep=';', encoding='utf8')\n",
    "dados.drop_duplicates(subset=['URL'], inplace=True)\n",
    "dados.to_csv('recorte_apple_abrasel_complemento.csv', sep=';', encoding='utf8', index=False)\n",
    "dados.count()"
   ]
  },
  {
   "cell_type": "code",
   "execution_count": null,
   "metadata": {},
   "outputs": [],
   "source": [
    "\n",
    "dados.count()"
   ]
  },
  {
   "cell_type": "code",
   "execution_count": null,
   "metadata": {},
   "outputs": [],
   "source": [
    "\n",
    "dados_apple_merge = dados_apple.merge(dados, how='left', on='URL' )\n",
    "dados_apple_merge.count()"
   ]
  },
  {
   "cell_type": "code",
   "execution_count": null,
   "metadata": {},
   "outputs": [],
   "source": [
    "dados_apple_merge = dados_apple_merge[['EIN (CNPJ)', 'TRADING NAME', 'CORPORATE_NAME','STREET', 'ADDRESS_NUMBER', 'ADDRESS_COMPLEMENT',\n",
    "    'DISTRICT', 'CITY','STATE', 'ZIP_CODE', 'LATITUDE', 'LONGITUDE', 'PHONE_NUMBER', 'SITE', 'CATEGORY_(CNAE)', 'TIPO', \n",
    "    'ESPECIALIDADE', 'IDIOMAS', 'HORARIO_FUNCIONAMENTO', 'INSTAGRAM', 'FACEBOOK', 'OPCOES_DE_SERVICO', 'URL']]\n",
    "dados_apple_merge.count()"
   ]
  },
  {
   "cell_type": "code",
   "execution_count": null,
   "metadata": {},
   "outputs": [],
   "source": [
    "dados_apple_merge.rename(columns={\"OPCOES_DE_SERVICO\":\"SERVICE_OPTIONS\",\"HORARIO_FUNCIONAMENTO\":\"OPENING_HOURS\"}, inplace=True)\n",
    "dados_apple_merge.count()"
   ]
  },
  {
   "cell_type": "code",
   "execution_count": null,
   "metadata": {},
   "outputs": [],
   "source": [
    "dados_apple_merge = dados_apple_merge[['EIN (CNPJ)', 'TRADING NAME', 'CORPORATE_NAME','STREET', 'ADDRESS_NUMBER', 'ADDRESS_COMPLEMENT',\n",
    "    'DISTRICT', 'CITY','STATE', 'ZIP_CODE', 'LATITUDE', 'LONGITUDE', 'PHONE_NUMBER', 'SITE', 'CATEGORY_(CNAE)', 'TIPO', \n",
    "    'ESPECIALIDADE', 'IDIOMAS', 'OPENING_HOURS', 'INSTAGRAM', 'FACEBOOK', 'SERVICE_OPTIONS']]\n",
    "dados_apple_merge.count()"
   ]
  },
  {
   "cell_type": "code",
   "execution_count": null,
   "metadata": {},
   "outputs": [],
   "source": [
    "dados_apple_merge.sort_values(by=['OPENING_HOURS','SERVICE_OPTIONS',\"SITE\"], inplace=True,\n",
    "               ascending = [False, False, False], ignore_index=True)\n",
    "dados_apple_merge"
   ]
  },
  {
   "cell_type": "code",
   "execution_count": null,
   "metadata": {},
   "outputs": [],
   "source": [
    "# Define a função que adiciona o código do país e remove os parênteses e os hífens\n",
    "def formatar_numero(numero):\n",
    "\n",
    "    # Adicionar o código do país no início\n",
    "    numero = '+' + str(numero)\n",
    "    numero = numero.replace(\"+++++\", \"+\")\n",
    "    # Retornar o número formatado\n",
    "    return numero\n",
    "\n",
    "# Definir a função que adiciona zero À esquerda do cnpj\n",
    "def zero_esquerda(cnpj):\n",
    "\n",
    "    # preenche com zeros a esquerda\n",
    "    cnpj = str(cnpj).zfill(14)\n",
    "    \n",
    "    # retorna o número formatado\n",
    "    return cnpj\n",
    "\n",
    "# Aplica a função à coluna telefone do dataframe merge_dados_dados\n",
    "dados_apple_merge['PHONE_NUMBER'] = dados_apple_merge['PHONE_NUMBER'].apply(formatar_numero)\n",
    "dados_apple_merge[\"EIN (CNPJ)\"] = dados_apple_merge[\"EIN (CNPJ)\"].apply(zero_esquerda)\n",
    "dados_apple_merge = dados_apple_merge[['EIN (CNPJ)', 'TRADING NAME', 'CORPORATE_NAME','STREET', 'ADDRESS_NUMBER', 'ADDRESS_COMPLEMENT',\n",
    "    'DISTRICT', 'CITY','STATE', 'ZIP_CODE', 'LATITUDE', 'LONGITUDE', 'PHONE_NUMBER', 'SITE', 'CATEGORY_(CNAE)', 'TIPO', \n",
    "    'ESPECIALIDADE', 'IDIOMAS', 'OPENING_HOURS', 'INSTAGRAM', 'FACEBOOK', 'SERVICE_OPTIONS']]\n",
    "dados_apple_merge.dropna(subset=['OPENING_HOURS'], inplace=True)\n",
    "dados_apple_merge.to_json(\"recorte_data_apple_abrasel.json\", orient='records',indent=4)\n",
    "\n",
    "dados_apple"
   ]
  },
  {
   "cell_type": "code",
   "execution_count": null,
   "metadata": {},
   "outputs": [],
   "source": [
    "import pandas as pd\n",
    "\n",
    "recorte = pd.read_json('./recorte_data_apple_abrasel.json', encoding='utf-8')\n",
    "recorte.dropna(subset=['OPENING_HOURS'], inplace=True)\n",
    "recorte = recorte[['EIN (CNPJ)', 'TRADING NAME', 'CORPORATE_NAME','STREET', 'ADDRESS_NUMBER', 'ADDRESS_COMPLEMENT',\n",
    "    'DISTRICT', 'CITY','STATE', 'ZIP_CODE', 'LATITUDE', 'LONGITUDE', 'PHONE_NUMBER', 'SITE', 'CATEGORY_(CNAE)', 'OPENING_HOURS', 'INSTAGRAM', 'FACEBOOK', 'SERVICE_OPTIONS']]\n",
    "recorte.to_json(\"data_apple_abrasel.json\", orient='records',indent=4)\n",
    "recorte"
   ]
  },
  {
   "cell_type": "code",
   "execution_count": null,
   "metadata": {},
   "outputs": [],
   "source": [
    "print(dados.iloc[1:2, 0:1],sep=':')"
   ]
  },
  {
   "cell_type": "code",
   "execution_count": null,
   "metadata": {},
   "outputs": [],
   "source": [
    "urls = []\n",
    "for nome_fantasia, uf, cidade, bairro in merge_dados_dados[[\"NOME_FANTASIA\", \"UF\", \"CIDADE\" ,\"BAIRRO\"]].itertuples(index=False):\n",
    "    urls.append(f\"https://www.google.com/maps/search/{nome_fantasia}+{uf}+{cidade}+{bairro}\".replace(' ', '+'))\n"
   ]
  }
 ],
 "metadata": {
  "kernelspec": {
   "display_name": ".venv",
   "language": "python",
   "name": "python3"
  },
  "language_info": {
   "codemirror_mode": {
    "name": "ipython",
    "version": 3
   },
   "file_extension": ".py",
   "mimetype": "text/x-python",
   "name": "python",
   "nbconvert_exporter": "python",
   "pygments_lexer": "ipython3",
   "version": "3.9.10"
  },
  "orig_nbformat": 4
 },
 "nbformat": 4,
 "nbformat_minor": 2
}
