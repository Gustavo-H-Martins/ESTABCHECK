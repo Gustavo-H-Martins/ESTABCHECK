{
 "cells": [
  {
   "cell_type": "code",
   "execution_count": 13,
   "metadata": {},
   "outputs": [
    {
     "data": {
      "text/html": [
       "<div>\n",
       "<style scoped>\n",
       "    .dataframe tbody tr th:only-of-type {\n",
       "        vertical-align: middle;\n",
       "    }\n",
       "\n",
       "    .dataframe tbody tr th {\n",
       "        vertical-align: top;\n",
       "    }\n",
       "\n",
       "    .dataframe thead th {\n",
       "        text-align: right;\n",
       "    }\n",
       "</style>\n",
       "<table border=\"1\" class=\"dataframe\">\n",
       "  <thead>\n",
       "    <tr style=\"text-align: right;\">\n",
       "      <th></th>\n",
       "      <th>CNPJ_BASE</th>\n",
       "      <th>RAZAO_SOCIAL</th>\n",
       "    </tr>\n",
       "  </thead>\n",
       "  <tbody>\n",
       "    <tr>\n",
       "      <th>0</th>\n",
       "      <td>0</td>\n",
       "      <td>BANCO DO BRASIL SA</td>\n",
       "    </tr>\n",
       "    <tr>\n",
       "      <th>1</th>\n",
       "      <td>1</td>\n",
       "      <td>ASSOCIACAO DE AMIGOS DE BAIRRO DO CONJ PAULISTANO</td>\n",
       "    </tr>\n",
       "    <tr>\n",
       "      <th>2</th>\n",
       "      <td>2</td>\n",
       "      <td>WM&amp;R EMPREITEIRA DE CONSTRUCAO CIVIL LIMITADA</td>\n",
       "    </tr>\n",
       "    <tr>\n",
       "      <th>3</th>\n",
       "      <td>3</td>\n",
       "      <td>CASA CARIDADE LUZETE ROBERTA DE MORAIS CONJ PA...</td>\n",
       "    </tr>\n",
       "    <tr>\n",
       "      <th>4</th>\n",
       "      <td>4</td>\n",
       "      <td>ASSOCIACAO DO PEQUENO ADOLECENTE DO CONJ PAULI...</td>\n",
       "    </tr>\n",
       "    <tr>\n",
       "      <th>...</th>\n",
       "      <td>...</td>\n",
       "      <td>...</td>\n",
       "    </tr>\n",
       "    <tr>\n",
       "      <th>995</th>\n",
       "      <td>1027</td>\n",
       "      <td>MANOEL MESSIAS DA CONCEICAO SILVA</td>\n",
       "    </tr>\n",
       "    <tr>\n",
       "      <th>996</th>\n",
       "      <td>1028</td>\n",
       "      <td>COMERCIAL MARCLAU LTDA</td>\n",
       "    </tr>\n",
       "    <tr>\n",
       "      <th>997</th>\n",
       "      <td>1029</td>\n",
       "      <td>ANTONIO SERGIO PINHEIRO CAMPOS</td>\n",
       "    </tr>\n",
       "    <tr>\n",
       "      <th>998</th>\n",
       "      <td>1030</td>\n",
       "      <td>JOSE RIBEIRO BIJOUTERIAS</td>\n",
       "    </tr>\n",
       "    <tr>\n",
       "      <th>999</th>\n",
       "      <td>1031</td>\n",
       "      <td>SHIRLEY FERNANDES E CASTRO</td>\n",
       "    </tr>\n",
       "  </tbody>\n",
       "</table>\n",
       "<p>1000 rows × 2 columns</p>\n",
       "</div>"
      ],
      "text/plain": [
       "     CNPJ_BASE                                       RAZAO_SOCIAL\n",
       "0            0                                 BANCO DO BRASIL SA\n",
       "1            1  ASSOCIACAO DE AMIGOS DE BAIRRO DO CONJ PAULISTANO\n",
       "2            2      WM&R EMPREITEIRA DE CONSTRUCAO CIVIL LIMITADA\n",
       "3            3  CASA CARIDADE LUZETE ROBERTA DE MORAIS CONJ PA...\n",
       "4            4  ASSOCIACAO DO PEQUENO ADOLECENTE DO CONJ PAULI...\n",
       "..         ...                                                ...\n",
       "995       1027                  MANOEL MESSIAS DA CONCEICAO SILVA\n",
       "996       1028                             COMERCIAL MARCLAU LTDA\n",
       "997       1029                     ANTONIO SERGIO PINHEIRO CAMPOS\n",
       "998       1030                           JOSE RIBEIRO BIJOUTERIAS\n",
       "999       1031                         SHIRLEY FERNANDES E CASTRO\n",
       "\n",
       "[1000 rows x 2 columns]"
      ]
     },
     "execution_count": 13,
     "metadata": {},
     "output_type": "execute_result"
    }
   ],
   "source": [
    "import pandas as pd\n",
    "d_estabelecimento = pd.read_csv(r\"C:\\Users\\ABRASEL NACIONAL\\Documents\\GitHub\\ETL_CNPJ\\Bases_EMPRESAS\\LISTA_EMPRESAS_K03200Y1.csv\", sep=';', nrows=1000)\n",
    "d_estabelecimento.sort_index(ascending=True)"
   ]
  },
  {
   "cell_type": "code",
   "execution_count": null,
   "metadata": {},
   "outputs": [],
   "source": [
    "import pandas as pd\n",
    "import sqlalchemy\n",
    "dados = pd.read_parquet('br_base\\Restaurantes e similares.gzip')\n",
    "dados.columns"
   ]
  },
  {
   "cell_type": "code",
   "execution_count": null,
   "metadata": {},
   "outputs": [],
   "source": [
    "import duckdb\n",
    "\n",
    "# Criando um objeto duckdb\n",
    "duck = duckdb.connect()\n",
    "\n",
    "# consulta\n",
    "query = \"\"\"\n",
    "SELECT DATA_SITUACAO_CADASTRAL, \n",
    "COUNT(*) as TOTAL\n",
    "FROM dados \n",
    "WHERE CNAE_DESCRICAO = 'RESTAURANTES E SIMILARES'\n",
    "GROUP BY DATA_SITUACAO_CADASTRAL;\n",
    "\"\"\"\n",
    "\n",
    "# Exemplo de consulta SQL usando duckdb\n",
    "resultado = duck.query(query).df()\n",
    "\n",
    "resultado"
   ]
  },
  {
   "cell_type": "code",
   "execution_count": null,
   "metadata": {},
   "outputs": [],
   "source": [
    "ultima_alteracao = duck.query(\"\"\"\n",
    "SELECT DATA_SITUACAO_CADASTRAL \n",
    "FROM dados\n",
    "ORDER BY DATA_SITUACAO_CADASTRAL DESC\n",
    "LIMIT 1;\n",
    "\"\"\").fetchone()[0]\n",
    "\n",
    "ultima_alteracao"
   ]
  }
 ],
 "metadata": {
  "kernelspec": {
   "display_name": ".venv",
   "language": "python",
   "name": "python3"
  },
  "language_info": {
   "codemirror_mode": {
    "name": "ipython",
    "version": 3
   },
   "file_extension": ".py",
   "mimetype": "text/x-python",
   "name": "python",
   "nbconvert_exporter": "python",
   "pygments_lexer": "ipython3",
   "version": "3.9.10"
  },
  "orig_nbformat": 4
 },
 "nbformat": 4,
 "nbformat_minor": 2
}
