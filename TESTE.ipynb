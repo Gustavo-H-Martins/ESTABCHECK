{
 "cells": [
  {
   "cell_type": "code",
   "execution_count": 1,
   "metadata": {},
   "outputs": [],
   "source": [
    "\"\"\"libs\"\"\"\n",
    "import time\n",
    "import datetime\n",
    "import re\n",
    "import os\n",
    "import pandas as pd\n",
    "from selenium import webdriver\n",
    "from selenium.webdriver.common.by import By\n",
    "from selenium.webdriver.common.keys import Keys\n",
    "from selenium.webdriver.common.action_chains import ActionChains\n",
    "from selenium.webdriver.common.by import By\n",
    "from selenium.webdriver.chrome.options import Options\n",
    "from selenium.webdriver.chrome.service import Service\n",
    "from webdriver_manager.chrome import ChromeDriverManager\n",
    "import sqlite3\n",
    "import multiprocessing\n",
    "\n",
    "br_conn = sqlite3.connect(\"./database/br_base_cnpj.db\")\n",
    "cadastrur_file = (\"./database/CADASTUR_SIGA_SIMPLES_APPLE.xlsx\")\n",
    "# obteendo o caminho do diretório atual e construindo o caminho do arquivo a partir dele\n",
    "current_dir = os.getcwd()"
   ]
  },
  {
   "cell_type": "code",
   "execution_count": 2,
   "metadata": {},
   "outputs": [],
   "source": [
    "# lendo os dados do cadastrur\n",
    "cadastrur_dados = pd.read_excel(cadastrur_file, dtype='string')"
   ]
  },
  {
   "cell_type": "code",
   "execution_count": 3,
   "metadata": {},
   "outputs": [
    {
     "data": {
      "text/html": [
       "<div>\n",
       "<style scoped>\n",
       "    .dataframe tbody tr th:only-of-type {\n",
       "        vertical-align: middle;\n",
       "    }\n",
       "\n",
       "    .dataframe tbody tr th {\n",
       "        vertical-align: top;\n",
       "    }\n",
       "\n",
       "    .dataframe thead th {\n",
       "        text-align: right;\n",
       "    }\n",
       "</style>\n",
       "<table border=\"1\" class=\"dataframe\">\n",
       "  <thead>\n",
       "    <tr style=\"text-align: right;\">\n",
       "      <th></th>\n",
       "      <th>CNPJ</th>\n",
       "      <th>RAZAO_SOCIAL</th>\n",
       "      <th>NOME_FANTASIA</th>\n",
       "      <th>SITUACAO_CADASTRAL</th>\n",
       "      <th>SITUACAO_ATIVIDADE</th>\n",
       "      <th>TIPO_ESTABELECIMENTO</th>\n",
       "      <th>NATUREZA_JURIDICA</th>\n",
       "      <th>PORTE</th>\n",
       "      <th>ENDERECO_RFB</th>\n",
       "      <th>EMAIL</th>\n",
       "      <th>...</th>\n",
       "      <th>VALIDADE_CERTIFICADO</th>\n",
       "      <th>TIPO</th>\n",
       "      <th>ESPECIALIDADE</th>\n",
       "      <th>IDIOMAS</th>\n",
       "      <th>UF</th>\n",
       "      <th>TELEFONE_COMERCIAL</th>\n",
       "      <th>MUNICIPIO</th>\n",
       "      <th>ENDERECO_COMERCIAL</th>\n",
       "      <th>CNAE_ATIVIDADE</th>\n",
       "      <th>TIPO_ASSOCIADO</th>\n",
       "    </tr>\n",
       "  </thead>\n",
       "  <tbody>\n",
       "    <tr>\n",
       "      <th>0</th>\n",
       "      <td>00649660000106</td>\n",
       "      <td>LUIZA DE JESUS LEME BAURU</td>\n",
       "      <td>LUIZA DE JESUS LEME BAURU ME</td>\n",
       "      <td>Regular</td>\n",
       "      <td>Operação</td>\n",
       "      <td>Matriz</td>\n",
       "      <td>Empresário (Individual)</td>\n",
       "      <td>MICROEMPRESA</td>\n",
       "      <td>BRAZ FERNANDES  Bauru Parque Real CEP: 1705702...</td>\n",
       "      <td>ESCRITAFISCAL@ESCRITORIOTIMONEIRO.COM.BR</td>\n",
       "      <td>...</td>\n",
       "      <td>30/03/2024</td>\n",
       "      <td>Restaurante</td>\n",
       "      <td>Brasileira</td>\n",
       "      <td>Português</td>\n",
       "      <td>SP</td>\n",
       "      <td>(14)3239-9388</td>\n",
       "      <td>Bauru</td>\n",
       "      <td>Vista Alegre  Bauru Parque Vista Alegre CEP: 1...</td>\n",
       "      <td>5611203</td>\n",
       "      <td>LEAD</td>\n",
       "    </tr>\n",
       "  </tbody>\n",
       "</table>\n",
       "<p>1 rows × 22 columns</p>\n",
       "</div>"
      ],
      "text/plain": [
       "             CNPJ               RAZAO_SOCIAL                 NOME_FANTASIA  \\\n",
       "0  00649660000106  LUIZA DE JESUS LEME BAURU  LUIZA DE JESUS LEME BAURU ME   \n",
       "\n",
       "  SITUACAO_CADASTRAL SITUACAO_ATIVIDADE TIPO_ESTABELECIMENTO  \\\n",
       "0            Regular           Operação               Matriz   \n",
       "\n",
       "         NATUREZA_JURIDICA         PORTE  \\\n",
       "0  Empresário (Individual)  MICROEMPRESA   \n",
       "\n",
       "                                        ENDERECO_RFB  \\\n",
       "0  BRAZ FERNANDES  Bauru Parque Real CEP: 1705702...   \n",
       "\n",
       "                                      EMAIL  ... VALIDADE_CERTIFICADO  \\\n",
       "0  ESCRITAFISCAL@ESCRITORIOTIMONEIRO.COM.BR  ...           30/03/2024   \n",
       "\n",
       "          TIPO ESPECIALIDADE    IDIOMAS  UF TELEFONE_COMERCIAL MUNICIPIO  \\\n",
       "0  Restaurante    Brasileira  Português  SP      (14)3239-9388     Bauru   \n",
       "\n",
       "                                  ENDERECO_COMERCIAL CNAE_ATIVIDADE  \\\n",
       "0  Vista Alegre  Bauru Parque Vista Alegre CEP: 1...        5611203   \n",
       "\n",
       "  TIPO_ASSOCIADO  \n",
       "0           LEAD  \n",
       "\n",
       "[1 rows x 22 columns]"
      ]
     },
     "execution_count": 3,
     "metadata": {},
     "output_type": "execute_result"
    }
   ],
   "source": [
    "cadastrur_dados.rename(columns={'NúmerodeInscriçãodoCNPJ':'CNPJ', 'NomedaPessoaJurídica':\"RAZAO_SOCIAL\",\n",
    "       'NomeFantasia':'NOME_FANTASIA', 'SituaçãoCadastral':'SITUACAO_CADASTRAL', 'SituaçãodaAtividade':'SITUACAO_ATIVIDADE',\n",
    "       'TipodeEstabelecimento':\"TIPO_ESTABELECIMENTO\", 'NaturezaJurídica':'NATUREZA_JURIDICA', 'Porte':'PORTE',\n",
    "       'EndereçoCompletoReceitaFederal':'ENDERECO_RFB', 'E - mailComercial':'EMAIL', 'Website':'SITE',\n",
    "       'NúmerodoCertificado':'NUMERO_CERTIFICADO', 'ValidadedoCertificado':'VALIDADE_CERTIFICADO', 'Tipo':'TIPO', 'Especialidade':'ESPECIALIDADE',\n",
    "       'Idiomas':'IDIOMAS', 'TelefoneComercial':'TELEFONE_COMERCIAL', 'Município':'MUNICIPIO',\n",
    "       'EndereçoCompletoComercial':'ENDERECO_COMERCIAL', 'CNAE(S)relacionadosàatividade':'CNAE_ATIVIDADE',\n",
    "       'StatusAssociadosAbrasel':'TIPO_ASSOCIADO'}, inplace=True)\n",
    "cadastrur_dados = cadastrur_dados[[\"CNPJ\", \"RAZAO_SOCIAL\", \"NOME_FANTASIA\", \n",
    "                                   \"SITUACAO_CADASTRAL\", \"SITUACAO_ATIVIDADE\", \"TIPO_ESTABELECIMENTO\", \n",
    "                                   \"NATUREZA_JURIDICA\", \"PORTE\", \"ENDERECO_RFB\", \"EMAIL\", \"SITE\", \n",
    "                                   \"NUMERO_CERTIFICADO\", \"VALIDADE_CERTIFICADO\",  \"TIPO\", \"ESPECIALIDADE\", \n",
    "                                   \"IDIOMAS\", \"UF\", \"TELEFONE_COMERCIAL\", \"MUNICIPIO\",\"ENDERECO_COMERCIAL\", \n",
    "                                   \"CNAE_ATIVIDADE\", \"TIPO_ASSOCIADO\"]]\n",
    "cadastrur_dados.head(1)"
   ]
  },
  {
   "cell_type": "code",
   "execution_count": 4,
   "metadata": {},
   "outputs": [],
   "source": [
    "# lendo nossa base da receita\n",
    "receita_dados = pd.read_sql_query(\"SELECT * FROM estabelecimentos\", br_conn, dtype='string')"
   ]
  },
  {
   "cell_type": "code",
   "execution_count": 11,
   "metadata": {},
   "outputs": [],
   "source": [
    "# concatenando os dois dataframes\n",
    "cadastrur_dados['CNPJ'] = cadastrur_dados['CNPJ'].astype('str')\n",
    "receita_dados['CNPJ'] = receita_dados['CNPJ'].astype('str')\n",
    "merge_dados_dados = cadastrur_dados.merge(receita_dados, how='left', on='CNPJ')"
   ]
  },
  {
   "cell_type": "code",
   "execution_count": 12,
   "metadata": {},
   "outputs": [
    {
     "data": {
      "text/plain": [
       "Index(['CNPJ', 'RAZAO_SOCIAL_x', 'NOME_FANTASIA_x', 'SITUACAO_CADASTRAL_x',\n",
       "       'SITUACAO_ATIVIDADE', 'TIPO_ESTABELECIMENTO', 'NATUREZA_JURIDICA',\n",
       "       'PORTE', 'ENDERECO_RFB', 'EMAIL', 'SITE_x', 'NUMERO_CERTIFICADO',\n",
       "       'VALIDADE_CERTIFICADO', 'TIPO', 'ESPECIALIDADE', 'IDIOMAS', 'UF',\n",
       "       'TELEFONE_COMERCIAL', 'MUNICIPIO', 'ENDERECO_COMERCIAL',\n",
       "       'CNAE_ATIVIDADE', 'TIPO_ASSOCIADO', 'RAZAO_SOCIAL_y', 'NOME_FANTASIA_y',\n",
       "       'RUA', 'NUMERO', 'COMPLEMENTO', 'BAIRRO', 'CIDADE', 'ESTADO', 'CEP',\n",
       "       'LATITUDE', 'LONGITUDE', 'TELEFONE1', 'SITE_y', 'CNAE_DESCRICAO',\n",
       "       'HORARIO_FUNCIONAMENTO', 'INSTAGRAM', 'FACEBOOK', 'OPCOES_DE_SERVICO',\n",
       "       'SITUACAO_CADASTRAL_y', 'DATA_SITUACAO_CADASTRAL'],\n",
       "      dtype='object')"
      ]
     },
     "execution_count": 12,
     "metadata": {},
     "output_type": "execute_result"
    }
   ],
   "source": [
    "merge_dados_dados.columns"
   ]
  },
  {
   "cell_type": "code",
   "execution_count": 25,
   "metadata": {},
   "outputs": [
    {
     "name": "stdout",
     "output_type": "stream",
     "text": [
      "7283\n",
      "7283\n"
     ]
    }
   ],
   "source": [
    "print(len(merge_dados_dados['CNPJ']))\n",
    "merge_dados_dados.dropna(subset=['LATITUDE', 'LONGITUDE'],inplace=True)\n",
    "merge_dados_dados['INSTAGRAM'] = merge_dados_dados['INSTAGRAM'].str.replace('\\*', '', regex=True)\n",
    "merge_dados_dados['INSTAGRAM'] = merge_dados_dados['INSTAGRAM'].str.replace('.', '', regex=True)\n",
    "merge_dados_dados = merge_dados_dados[merge_dados_dados['INSTAGRAM'] != \"@\"]\n",
    "merge_dados_dados.rename(columns={\"RAZAO_SOCIAL_x\":\"RAZAO_SOCIAL\", 'NOME_FANTASIA_x':'NOME_FANTASIA', 'SITUACAO_CADASTRAL_x':'SITUACAO_CADASTRAL'}, inplace=True)\n",
    "merge_dados_dados = merge_dados_dados[['CNPJ', 'RAZAO_SOCIAL', 'NOME_FANTASIA', 'SITUACAO_CADASTRAL',\n",
    "       'SITUACAO_ATIVIDADE', 'TIPO_ESTABELECIMENTO', 'SITE_x', 'NUMERO_CERTIFICADO', \n",
    "       'TIPO', 'ESPECIALIDADE', 'IDIOMAS', 'UF','TELEFONE_COMERCIAL',\n",
    "       'CNAE_ATIVIDADE', 'TIPO_ASSOCIADO', 'ENDERECO_COMERCIAL', 'RUA', 'NUMERO', 'COMPLEMENTO', 'BAIRRO', 'CIDADE','CEP',\n",
    "       'LATITUDE', 'LONGITUDE','SITE_y', 'CNAE_DESCRICAO','HORARIO_FUNCIONAMENTO', 'INSTAGRAM', 'FACEBOOK', 'OPCOES_DE_SERVICO']]\n",
    "print(len(merge_dados_dados['CNPJ']))\n"
   ]
  },
  {
   "cell_type": "code",
   "execution_count": 28,
   "metadata": {},
   "outputs": [],
   "source": [
    "merge_dados_dados.to_excel('merge_data_cadastrur-rfb.xlsx', sheet_name=\"CADASTRUR RFB\", index=False)"
   ]
  },
  {
   "cell_type": "code",
   "execution_count": 3,
   "metadata": {},
   "outputs": [],
   "source": [
    "urls = []\n",
    "for nome_fantasia, uf, cidade, bairro in merge_dados_dados[[\"NOME_FANTASIA\", \"UF\", \"CIDADE\" ,\"BAIRRO\"]].itertuples(index=False):\n",
    "    urls.append(f\"https://www.google.com/maps/search/{nome_fantasia}+{uf}+{cidade}+{bairro}\".replace(' ', '+'))\n"
   ]
  }
 ],
 "metadata": {
  "kernelspec": {
   "display_name": ".venv",
   "language": "python",
   "name": "python3"
  },
  "language_info": {
   "codemirror_mode": {
    "name": "ipython",
    "version": 3
   },
   "file_extension": ".py",
   "mimetype": "text/x-python",
   "name": "python",
   "nbconvert_exporter": "python",
   "pygments_lexer": "ipython3",
   "version": "3.9.10"
  },
  "orig_nbformat": 4
 },
 "nbformat": 4,
 "nbformat_minor": 2
}
