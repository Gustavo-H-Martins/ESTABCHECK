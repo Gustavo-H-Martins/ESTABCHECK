{
 "cells": [
  {
   "cell_type": "code",
   "execution_count": 1,
   "metadata": {},
   "outputs": [
    {
     "data": {
      "text/plain": [
       "[{'UF': 'RO',\n",
       "  'COD_UF': '24',\n",
       "  'MUNICIPIO': '1100015',\n",
       "  'BAIRRO': 'POSTO FISCAL ROLIM DE MOURA',\n",
       "  'LATITUDE': '-13.08271',\n",
       "  'LONGITUDE': '-62.27726'},\n",
       " {'UF': 'RO',\n",
       "  'COD_UF': '24',\n",
       "  'MUNICIPIO': '1100015',\n",
       "  'BAIRRO': \"ALTA FLORESTA D'OESTE\",\n",
       "  'LATITUDE': '-11.96806',\n",
       "  'LONGITUDE': '-61.95417'},\n",
       " {'UF': 'RO',\n",
       "  'COD_UF': '24',\n",
       "  'MUNICIPIO': '1100015',\n",
       "  'BAIRRO': 'CLIZA',\n",
       "  'LATITUDE': '-12.61667',\n",
       "  'LONGITUDE': '-62.06667'},\n",
       " {'UF': 'RO',\n",
       "  'COD_UF': '24',\n",
       "  'MUNICIPIO': '1100015',\n",
       "  'BAIRRO': 'URUROSES',\n",
       "  'LATITUDE': '-12.86667',\n",
       "  'LONGITUDE': '-62.2'},\n",
       " {'UF': 'RO',\n",
       "  'COD_UF': '24',\n",
       "  'MUNICIPIO': '1100015',\n",
       "  'BAIRRO': 'CONSUELO',\n",
       "  'LATITUDE': '-12.65',\n",
       "  'LONGITUDE': '-62.13333'},\n",
       " {'UF': 'RO',\n",
       "  'COD_UF': '24',\n",
       "  'MUNICIPIO': '1100015',\n",
       "  'BAIRRO': \"ALTA FLORESTA D'OESTE\",\n",
       "  'LATITUDE': '-11.92871',\n",
       "  'LONGITUDE': '-61.99829'}]"
      ]
     },
     "execution_count": 1,
     "metadata": {},
     "output_type": "execute_result"
    }
   ],
   "source": [
    "import pandas as pd\n",
    "from utilitarios.geonames import get_geolocalizacao\n",
    "#base = get_geolocalizacao(cod_municipio=1100015)\n",
    "base = get_geolocalizacao(cod_municipio=1100015, usuario='diskborste')\n",
    "base"
   ]
  },
  {
   "cell_type": "code",
   "execution_count": null,
   "metadata": {},
   "outputs": [],
   "source": [
    "import pandas as pd\n",
    "import sqlalchemy\n",
    "dados = pd.read_parquet('br_base\\Restaurantes e similares.gzip')\n",
    "dados.columns"
   ]
  },
  {
   "cell_type": "code",
   "execution_count": null,
   "metadata": {},
   "outputs": [],
   "source": [
    "import duckdb\n",
    "\n",
    "# Criando um objeto duckdb\n",
    "duck = duckdb.connect()\n",
    "\n",
    "# consulta\n",
    "query = \"\"\"\n",
    "SELECT DATA_SITUACAO_CADASTRAL, \n",
    "COUNT(*) as TOTAL\n",
    "FROM dados \n",
    "WHERE CNAE_DESCRICAO = 'RESTAURANTES E SIMILARES'\n",
    "GROUP BY DATA_SITUACAO_CADASTRAL;\n",
    "\"\"\"\n",
    "\n",
    "# Exemplo de consulta SQL usando duckdb\n",
    "resultado = duck.query(query).df()\n",
    "\n",
    "resultado"
   ]
  },
  {
   "cell_type": "code",
   "execution_count": null,
   "metadata": {},
   "outputs": [],
   "source": [
    "ultima_alteracao = duck.query(\"\"\"\n",
    "SELECT DATA_SITUACAO_CADASTRAL \n",
    "FROM dados\n",
    "ORDER BY DATA_SITUACAO_CADASTRAL DESC\n",
    "LIMIT 1;\n",
    "\"\"\").fetchone()[0]\n",
    "\n",
    "ultima_alteracao"
   ]
  }
 ],
 "metadata": {
  "kernelspec": {
   "display_name": ".venv",
   "language": "python",
   "name": "python3"
  },
  "language_info": {
   "codemirror_mode": {
    "name": "ipython",
    "version": 3
   },
   "file_extension": ".py",
   "mimetype": "text/x-python",
   "name": "python",
   "nbconvert_exporter": "python",
   "pygments_lexer": "ipython3",
   "version": "3.9.10"
  },
  "orig_nbformat": 4
 },
 "nbformat": 4,
 "nbformat_minor": 2
}
