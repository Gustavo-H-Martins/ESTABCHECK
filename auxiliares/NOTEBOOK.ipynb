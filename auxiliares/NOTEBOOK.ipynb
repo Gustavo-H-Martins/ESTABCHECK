{
 "cells": [
  {
   "cell_type": "code",
   "execution_count": 1,
   "metadata": {},
   "outputs": [],
   "source": [
    "import sys\n",
    "sys.path.append(r\"C:\\Users\\ABRASEL NACIONAL\\Documents\\GitHub\\ESTABCHECK\\utilitarios\")\n",
    "from geonames import get_geolocalizacao"
   ]
  },
  {
   "cell_type": "code",
   "execution_count": 2,
   "metadata": {},
   "outputs": [],
   "source": [
    "ESTADOS = {\"AC\":\"1\", \"AL\":\"2\", \"AM\":\"4\",\n",
    " \"AP\":\"3\",\"BA\":\"5\", \"CE\":\"6\", \"DF\":\"7\",\n",
    " \"ES\":\"8\", \"GO\":\"29\", \"MA\":\"13\", \"MG\":\"15\",\n",
    " \"MS\":\"11\", \"MT\":\"14\", \"PA\":\"16\", \"PB\":\"17\",\n",
    " \"PE\":\"30\", \"PI\":\"20\", \"PR\":\"18\", \"RJ\":\"21\",\n",
    " \"RN\":\"22\", \"RO\":\"24\", \"RR\":\"25\", \"RS\":\"23\",\n",
    " \"SC\":\"26\", \"SE\":\"28\", \"SP\":\"27\", \"TO\":\"31\"\n",
    "}"
   ]
  },
  {
   "cell_type": "code",
   "execution_count": 4,
   "metadata": {},
   "outputs": [],
   "source": [
    "import pandas as pd\n",
    "for i in ESTADOS.values():\n",
    "    base = get_geolocalizacao(cod_uf_geonames=i)\n",
    "    dados = pd.DataFrame(base)\n",
    "    dados.to_csv(\"BASE_BAIRROS_BRASIL.csv\", index=False, mode='a', header=False)"
   ]
  },
  {
   "cell_type": "code",
   "execution_count": null,
   "metadata": {},
   "outputs": [],
   "source": [
    "novos_dados = pd.read_csv('BASE_BAIRROS_BRASIL.csv', header=dados.columns)\n",
    "novos_dados.drop_duplicates(inplace=True)\n",
    "novos_dados.to_excel(\"BASE_BAIRROS_BRASIL.xlsx\", index=False)\n",
    "print(dados.columns)"
   ]
  }
 ],
 "metadata": {
  "kernelspec": {
   "display_name": ".venv",
   "language": "python",
   "name": "python3"
  },
  "language_info": {
   "codemirror_mode": {
    "name": "ipython",
    "version": 3
   },
   "file_extension": ".py",
   "mimetype": "text/x-python",
   "name": "python",
   "nbconvert_exporter": "python",
   "pygments_lexer": "ipython3",
   "version": "3.9.10"
  },
  "orig_nbformat": 4
 },
 "nbformat": 4,
 "nbformat_minor": 2
}
