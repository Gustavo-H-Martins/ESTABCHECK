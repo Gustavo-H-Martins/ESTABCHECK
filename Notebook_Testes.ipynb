{
 "cells": [
  {
   "cell_type": "code",
   "execution_count": null,
   "metadata": {},
   "outputs": [],
   "source": [
    "import pandas as pd\n",
    "import os\n",
    "\n",
    "# Parâmetros Estabelecimentos\n",
    "dtypes_EMPRESA = {'CNPJ_BASE': 'category'}\n",
    "\n",
    "diretorio_empresa = r'base_csv_empresas/'\n",
    "all_files_estabelecimentos = list(filter(lambda x: '.csv' in x, os.listdir(diretorio_empresa)))\n",
    "\n",
    "for file_empresa in all_files_estabelecimentos:\n",
    "    d_empresa = pd.read_csv(f'{diretorio_empresa}{file_empresa}',dtype=dtypes_EMPRESA,error_bad_lines=False,sep=';', nrows=10)\n",
    "    print(d_empresa)"
   ]
  },
  {
   "cell_type": "code",
   "execution_count": 1,
   "metadata": {},
   "outputs": [
    {
     "name": "stderr",
     "output_type": "stream",
     "text": [
      "C:\\Users\\ABRASEL NACIONAL\\AppData\\Local\\Temp\\ipykernel_18576\\2071155583.py:10: DtypeWarning: Columns (8) have mixed types. Specify dtype option on import or set low_memory=False.\n",
      "  dados = pd.read_csv(f'{caminho}{arq}')\n"
     ]
    }
   ],
   "source": [
    "# libs\n",
    "import pandas as pd\n",
    "import json\n",
    "import re\n",
    "\n",
    "caminho = r'merge_base/'\n",
    "arquivos = list(filter(lambda x: \".csv\" in x, os.listdir(caminho)))\n",
    "\n",
    "for arq in arquivos:\n",
    "    dados = pd.read_csv(f'{caminho}{arq}')\n",
    "    new_arq = re.sub('.csv','.json', arq)\n",
    "    dados.to_json(f\"json_base/{new_arq}\", orient='records')\n"
   ]
  }
 ],
 "metadata": {
  "kernelspec": {
   "display_name": ".venv",
   "language": "python",
   "name": "python3"
  },
  "language_info": {
   "codemirror_mode": {
    "name": "ipython",
    "version": 3
   },
   "file_extension": ".py",
   "mimetype": "text/x-python",
   "name": "python",
   "nbconvert_exporter": "python",
   "pygments_lexer": "ipython3",
   "version": "3.10.7 (tags/v3.10.7:6cc6b13, Sep  5 2022, 14:08:36) [MSC v.1933 64 bit (AMD64)]"
  },
  "orig_nbformat": 4,
  "vscode": {
   "interpreter": {
    "hash": "465f3240c705e114775d45e157a4be42874ea6b4e87cdb94562b07dda2a3eba8"
   }
  }
 },
 "nbformat": 4,
 "nbformat_minor": 2
}
