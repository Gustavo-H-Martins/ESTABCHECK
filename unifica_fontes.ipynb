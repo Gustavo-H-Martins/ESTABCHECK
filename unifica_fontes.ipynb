{
 "cells": [
  {
   "cell_type": "code",
   "execution_count": 1,
   "metadata": {},
   "outputs": [],
   "source": [
    "# ler todos os arquivos csv do diretório e guardar em um objeto\n",
    "# import required modules\n",
    "import numpy as np\n",
    "import time\n",
    "import os\n",
    "import re\n",
    "import pandas as pd\n",
    "from dask import dataframe as dd\n",
    "\n",
    "\n",
    "#Warnings: Possui uma série de funções e comandos para tratamento de mensagens de avisos e alertas do Python\n",
    "import warnings\n",
    "warnings.filterwarnings(\"ignore\")\n",
    "\n",
    "#Comando para exibir todas colunas do arquivo\n",
    "pd.set_option('display.max_columns', None)\n",
    "pd.set_option('display.max_rows', None)\n"
   ]
  },
  {
   "cell_type": "code",
   "execution_count": 21,
   "metadata": {},
   "outputs": [
    {
     "data": {
      "text/html": [
       "<div>\n",
       "<style scoped>\n",
       "    .dataframe tbody tr th:only-of-type {\n",
       "        vertical-align: middle;\n",
       "    }\n",
       "\n",
       "    .dataframe tbody tr th {\n",
       "        vertical-align: top;\n",
       "    }\n",
       "\n",
       "    .dataframe thead th {\n",
       "        text-align: right;\n",
       "    }\n",
       "</style>\n",
       "<table border=\"1\" class=\"dataframe\">\n",
       "  <thead>\n",
       "    <tr style=\"text-align: right;\">\n",
       "      <th></th>\n",
       "      <th>CNPJ_BASE</th>\n",
       "      <th>CNPJ_ORDEM</th>\n",
       "      <th>CNPJ_DV</th>\n",
       "      <th>NOME_FANTASIA</th>\n",
       "      <th>TIPO_LOGRADOURO</th>\n",
       "      <th>LOGRADOURO</th>\n",
       "      <th>NUMERO</th>\n",
       "      <th>COMPLEMENTO</th>\n",
       "      <th>BAIRRO</th>\n",
       "      <th>CEP</th>\n",
       "      <th>UF</th>\n",
       "      <th>MUNICIPIO</th>\n",
       "    </tr>\n",
       "  </thead>\n",
       "  <tbody>\n",
       "    <tr>\n",
       "      <th>0</th>\n",
       "      <td>39228727</td>\n",
       "      <td>0001</td>\n",
       "      <td>66</td>\n",
       "      <td>AGO RESTOBAR</td>\n",
       "      <td>11A RUA</td>\n",
       "      <td>CLOUTIDES PEREIRA ROCHA</td>\n",
       "      <td>SN</td>\n",
       "      <td>NaN</td>\n",
       "      <td>BAIRRO CEARENSE</td>\n",
       "      <td>64795000.0</td>\n",
       "      <td>PI</td>\n",
       "      <td>1049</td>\n",
       "    </tr>\n",
       "    <tr>\n",
       "      <th>1</th>\n",
       "      <td>39228909</td>\n",
       "      <td>0001</td>\n",
       "      <td>37</td>\n",
       "      <td>Indisponível</td>\n",
       "      <td>RUA</td>\n",
       "      <td>GETULIO VARGAS</td>\n",
       "      <td>158</td>\n",
       "      <td>NaN</td>\n",
       "      <td>CENTRO</td>\n",
       "      <td>37925000.0</td>\n",
       "      <td>MG</td>\n",
       "      <td>5029</td>\n",
       "    </tr>\n",
       "  </tbody>\n",
       "</table>\n",
       "</div>"
      ],
      "text/plain": [
       "  CNPJ_BASE CNPJ_ORDEM CNPJ_DV NOME_FANTASIA TIPO_LOGRADOURO  \\\n",
       "0  39228727       0001      66  AGO RESTOBAR         11A RUA   \n",
       "1  39228909       0001      37  Indisponível             RUA   \n",
       "\n",
       "                LOGRADOURO NUMERO COMPLEMENTO           BAIRRO         CEP  \\\n",
       "0  CLOUTIDES PEREIRA ROCHA     SN         NaN  BAIRRO CEARENSE  64795000.0   \n",
       "1           GETULIO VARGAS    158         NaN           CENTRO  37925000.0   \n",
       "\n",
       "   UF  MUNICIPIO  \n",
       "0  PI       1049  \n",
       "1  MG       5029  "
      ]
     },
     "execution_count": 21,
     "metadata": {},
     "output_type": "execute_result"
    }
   ],
   "source": [
    "\n",
    "\n",
    "#diretorio = r'Bases\\Base_atualizada/'\n",
    "diretorio_estabelecimentos = r'C:\\Users\\ABRASEL NACIONAL\\Documents\\CNPJ_PROGRAMATICA\\Manipulacao_arquivos\\Manipulacao_Arquivos_Python\\Bases\\Arquivos_Limpos'\n",
    "all_files_estabelecimentos = list(filter(lambda x: '.csv' in x, os.listdir(diretorio_estabelecimentos)))\n",
    "\n",
    "ESTABELE = ['CNPJ_BASE', 'CNPJ_ORDEM' , 'CNPJ_DV' , 'MATRIZ_FILIAL'  , 'NOME_FANTASIA' , 'SITUACAO_CADASTRAL' ,\n",
    "              'DATA_SITUACAO_CADASTRAL'  , 'MOTIVO_SITUACAO_CADASTRAL'  , 'DATA_INICIO_ATIVIDADE'  ,\n",
    "              'CNAE_PRINCIPAL'  , 'CNAE_SECUNDARIO' , 'TIPO_LOGRADOURO'  , 'LOGRADOURO'  , 'NUMERO'  , 'COMPLEMENTO' ,\n",
    "              'BAIRRO'  , 'CEP'  , 'UF'  , 'MUNICIPIO'  , 'DDD1'  , 'TELEFONE1'  , 'DDD2'  , 'TELEFONE2'  ,\n",
    "              'DDD_FAX'  , 'FAX'  , 'EMAIL']\n",
    "colunas = [0,1,2,4,11,12,13,14,15,16,17,18]\n",
    "dtypes_ESTABELE = {'CNPJ_BASE': 'category',\n",
    " 'CNPJ_ORDEM': 'category',\n",
    " 'CNPJ_DV': 'category'}\n",
    " \n",
    "dados = pd.read_csv(f'{diretorio_estabelecimentos}/{all_files_estabelecimentos[0]}',usecols=colunas, nrows=10, sep=';', dtype=dtypes_ESTABELE, names=ESTABELE)\n",
    "dados.head(2)"
   ]
  },
  {
   "cell_type": "code",
   "execution_count": 12,
   "metadata": {},
   "outputs": [
    {
     "data": {
      "text/html": [
       "<div>\n",
       "<style scoped>\n",
       "    .dataframe tbody tr th:only-of-type {\n",
       "        vertical-align: middle;\n",
       "    }\n",
       "\n",
       "    .dataframe tbody tr th {\n",
       "        vertical-align: top;\n",
       "    }\n",
       "\n",
       "    .dataframe thead th {\n",
       "        text-align: right;\n",
       "    }\n",
       "</style>\n",
       "<table border=\"1\" class=\"dataframe\">\n",
       "  <thead>\n",
       "    <tr style=\"text-align: right;\">\n",
       "      <th></th>\n",
       "      <th>CNPJ_BASE</th>\n",
       "      <th>RAZAO_SOCIAL</th>\n",
       "    </tr>\n",
       "  </thead>\n",
       "  <tbody>\n",
       "    <tr>\n",
       "      <th>0</th>\n",
       "      <td>41273597</td>\n",
       "      <td>PACHARRUS QUEIROZ DA COSTA E SILVA 03618384335</td>\n",
       "    </tr>\n",
       "    <tr>\n",
       "      <th>1</th>\n",
       "      <td>41273598</td>\n",
       "      <td>GLORIA VIANA DIAS DA SILVA 13118961716</td>\n",
       "    </tr>\n",
       "  </tbody>\n",
       "</table>\n",
       "</div>"
      ],
      "text/plain": [
       "  CNPJ_BASE                                    RAZAO_SOCIAL\n",
       "0  41273597  PACHARRUS QUEIROZ DA COSTA E SILVA 03618384335\n",
       "1  41273598          GLORIA VIANA DIAS DA SILVA 13118961716"
      ]
     },
     "execution_count": 12,
     "metadata": {},
     "output_type": "execute_result"
    }
   ],
   "source": [
    "EMPRESA = ['CNPJ_BASE', 'RAZAO_SOCIAL']\n",
    "dtypes_EMPRESA = {'CNPJ_BASE': 'category'}\n",
    "#diretorio = r'Bases\\Base_atualizada/'\n",
    "diretorio_empresa = r'C:\\Users\\ABRASEL NACIONAL\\Documents\\CNPJ_PROGRAMATICA\\Manipulacao_arquivos\\Manipulacao_Arquivos_Python\\Bases_EMPRESAS'\n",
    "all_files_empresa = list(filter(lambda x: '.csv' in x, os.listdir(diretorio_empresa)))\n",
    "\n",
    "dados = pd.read_csv(f'{diretorio_empresa}/{all_files_empresa[0]}', nrows=10, sep=';', dtype=dtypes_EMPRESA, names=EMPRESA)\n",
    "dados.head(2)"
   ]
  },
  {
   "cell_type": "code",
   "execution_count": 24,
   "metadata": {},
   "outputs": [
    {
     "data": {
      "text/plain": [
       "<bound method NDFrame.head of Empty DataFrame\n",
       "Columns: [CNPJ_BASE, CNPJ_ORDEM, CNPJ_DV, NOME_FANTASIA, TIPO_LOGRADOURO, LOGRADOURO, NUMERO, COMPLEMENTO, BAIRRO, CEP, UF, MUNICIPIO, RAZAO_SOCIAL]\n",
       "Index: []>"
      ]
     },
     "execution_count": 24,
     "metadata": {},
     "output_type": "execute_result"
    }
   ],
   "source": [
    "# Parâmetros Estabelecimentos\n",
    "ESTABELE = ['CNPJ_BASE', 'CNPJ_ORDEM' , 'CNPJ_DV' , 'MATRIZ_FILIAL'  , 'NOME_FANTASIA' , 'SITUACAO_CADASTRAL' ,\n",
    "            'DATA_SITUACAO_CADASTRAL'  , 'MOTIVO_SITUACAO_CADASTRAL'  , 'DATA_INICIO_ATIVIDADE'  ,\n",
    "            'CNAE_PRINCIPAL'  , 'CNAE_SECUNDARIO' , 'TIPO_LOGRADOURO'  , 'LOGRADOURO'  , 'NUMERO'  , 'COMPLEMENTO' ,\n",
    "            'BAIRRO'  , 'CEP'  , 'UF'  , 'MUNICIPIO'  , 'DDD1'  , 'TELEFONE1'  , 'DDD2'  , 'TELEFONE2'  ,\n",
    "            'DDD_FAX'  , 'FAX'  , 'EMAIL']\n",
    "colunas_ESTABELE = [0,1,2,4,11,12,13,14,15,16,17,18]\n",
    "dtypes_ESTABELE = {'CNPJ_BASE': 'category',\n",
    "'CNPJ_ORDEM': 'category',\n",
    "'CNPJ_DV': 'category'}\n",
    "\n",
    "# Parâmetros Empresas\n",
    "EMPRESA = ['CNPJ_BASE', 'RAZAO_SOCIAL']\n",
    "dtypes_EMPRESA = {'CNPJ_BASE': 'category'}\n",
    "\n",
    "for file_estabelecimento in all_files_estabelecimentos:\n",
    "    d_estabelecimentos = pd.read_csv(f'{diretorio_estabelecimentos}/{file_estabelecimento}', \n",
    "    usecols=colunas_ESTABELE, \n",
    "    sep=';', \n",
    "    dtype=dtypes_ESTABELE, \n",
    "    names=ESTABELE)\n",
    "    for file_empresa in all_files_empresa:\n",
    "        d_empresa = pd.read_csv(f'{diretorio_empresa}/{file_empresa}', \n",
    "        sep=';', \n",
    "        dtype=dtypes_EMPRESA, \n",
    "        names=EMPRESA)\n",
    "    \n",
    "        d_estabelecimentos = pd.merge(d_estabelecimentos, d_empresa, on='CNPJ_BASE', how='inner')\n",
    "    print(d_estabelecimentos.shape)\n",
    "    retorno = re.sub('csv','xslx', file_estabelecimento)\n",
    "    d_estabelecimentos.to_excel(f\"merge_base/{retorno}\", index=False,encoding='utf-8', sheet_name=retorno[0:-6])\n",
    "    "
   ]
  }
 ],
 "metadata": {
  "kernelspec": {
   "display_name": "Python 3",
   "language": "python",
   "name": "python3"
  },
  "language_info": {
   "codemirror_mode": {
    "name": "ipython",
    "version": 3
   },
   "file_extension": ".py",
   "mimetype": "text/x-python",
   "name": "python",
   "nbconvert_exporter": "python",
   "pygments_lexer": "ipython3",
   "version": "3.10.7"
  },
  "orig_nbformat": 4,
  "vscode": {
   "interpreter": {
    "hash": "33b937bef43efa2a1535649a0ecede60f732469583961989e654da1c5a454a04"
   }
  }
 },
 "nbformat": 4,
 "nbformat_minor": 2
}
