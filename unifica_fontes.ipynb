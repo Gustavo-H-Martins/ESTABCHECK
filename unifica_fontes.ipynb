{
 "cells": [
  {
   "cell_type": "code",
   "execution_count": 1,
   "metadata": {},
   "outputs": [],
   "source": [
    "# ler todos os arquivos csv do diretório e guardar em um objeto\n",
    "# import required modules\n",
    "import numpy as np\n",
    "import time\n",
    "import os\n",
    "import re\n",
    "import pandas as pd\n",
    "from dask import dataframe as dd\n",
    "import glob\n",
    "\n",
    "#Warnings: Possui uma série de funções e comandos para tratamento de mensagens de avisos e alertas do Python\n",
    "import warnings\n",
    "warnings.filterwarnings(\"ignore\")\n",
    "\n",
    "#Comando para exibir todas colunas do arquivo\n",
    "pd.set_option('display.max_columns', None)\n",
    "pd.set_option('display.max_rows', None)\n"
   ]
  },
  {
   "attachments": {},
   "cell_type": "markdown",
   "metadata": {},
   "source": [
    "## Com Pandas"
   ]
  },
  {
   "cell_type": "code",
   "execution_count": null,
   "metadata": {},
   "outputs": [],
   "source": [
    "# ler todos os arquivos csv do diretório e guardar em um objeto\n",
    "import numpy as np\n",
    "import time\n",
    "import os\n",
    "import re\n",
    "import pandas as pd\n",
    "from dask import dataframe as dd\n",
    "import glob\n",
    "\n",
    "#Warnings: Possui uma série de funções e comandos para tratamento de mensagens de avisos e alertas do Python\n",
    "import warnings\n",
    "warnings.filterwarnings(\"ignore\")\n",
    "\n",
    "# diretórios\n",
    "diretorio_estabelecimentos = r'base_csv_empresas'\n",
    "diretorio_empresa = r'base_csv_estabelecimentos'\n",
    "\n",
    "# Parâmetros Estabelecimentos\n",
    "ESTABELE = ['CNPJ_BASE','CNPJ_ORDEM','CNPJ_DV','NOME_FANTASIA','TIPO_LOGRADOURO','LOGRADOURO','NUMERO','COMPLEMENTO','BAIRRO','CEP','UF','MUNICIPIO']\n",
    "dtypes_ESTABELE = {'CNPJ_BASE': 'category',\n",
    "'CNPJ_ORDEM': 'category',\n",
    "'CNPJ_DV': 'category'}\n",
    "\n",
    "path = f'{diretorio_estabelecimentos}/*.csv'\n",
    "all_files_estabelecimentos = glob.glob(path)\n",
    "\n",
    "lista_df_estabelecimentos = []\n",
    "for file in all_files_estabelecimentos:\n",
    "    d_estabelecimento = pd.read_csv(file, \n",
    "    sep=';', \n",
    "    dtype=dtypes_ESTABELE, \n",
    "    names=ESTABELE)\n",
    "    lista_df_estabelecimentos.append(d_estabelecimento)\n",
    "\n",
    "estabelecimentos = pd.concat(lista_df_estabelecimentos, axis=0, ignore_index=True)\n",
    "\n",
    "# Parâmetros Empresas\n",
    "EMPRESA = ['CNPJ_BASE', 'RAZAO_SOCIAL']\n",
    "dtypes_EMPRESA = {'CNPJ_BASE': 'category'}\n",
    "\n",
    "path = f'{diretorio_empresa}/*.csv'\n",
    "all_files_empresa = glob.glob(path)\n",
    "\n",
    "lista_df_empresas = []\n",
    "for file in all_files_empresa:\n",
    "    d_empresa = pd.read_csv(file,\n",
    "        sep=';',\n",
    "        dtype=dtypes_EMPRESA, \n",
    "        names=EMPRESA)\n",
    "    #lista_df_empresas.append(d_empresa)\n",
    "\n",
    "    #empresas = pd.concat(lista_df_empresas, axis=0, ignore_index=True)\n",
    "\n",
    "    merged_data = pd.merge(estabelecimentos, d_empresa, on='CNPJ_BASE')\n",
    "\n",
    "    chunk_size = 1000000\n",
    "    for i in range(0, len(merged_data), chunk_size):\n",
    "        df_chunk = merged_data.iloc[i:i+chunk_size]\n",
    "        df_chunk.to_csv(f'merge_base/merged_data_{i}.csv', mode='a', index=False)"
   ]
  },
  {
   "attachments": {},
   "cell_type": "markdown",
   "metadata": {},
   "source": [
    "## Com Dask"
   ]
  },
  {
   "cell_type": "code",
   "execution_count": null,
   "metadata": {},
   "outputs": [],
   "source": [
    "# ler todos os arquivos csv do diretório e guardar em um objeto\n",
    "import dask.dataframe as dd\n",
    "import pandas as pd\n",
    "\n",
    "# diretórios\n",
    "diretorio_estabelecimentos = r'base_csv_empresas'\n",
    "diretorio_empresa = r'base_csv_estabelecimentos'\n",
    "\n",
    "# Parâmetros Estabelecimentos\n",
    "ESTABELE = ['CNPJ_BASE','CNPJ_ORDEM','CNPJ_DV','NOME_FANTASIA','TIPO_LOGRADOURO','LOGRADOURO','NUMERO','COMPLEMENTO','BAIRRO','CEP','UF','MUNICIPIO']\n",
    "dtypes_ESTABELE = {'CNPJ_BASE': 'category',\n",
    "'CNPJ_ORDEM': 'category',\n",
    "'CNPJ_DV': 'category'}\n",
    "\n",
    "# Parâmetros Empresas\n",
    "EMPRESA = ['CNPJ_BASE', 'RAZAO_SOCIAL']\n",
    "dtypes_EMPRESA = {'CNPJ_BASE': 'category'}\n",
    "\n",
    "# Lendo os arquivos\n",
    "estabelecimentos = dd.read_csv(diretorio_estabelecimentos + '/*.csv', delimiter=';',  dtype=dtypes_ESTABELE, names=ESTABELE)\n",
    "empresas = dd.read_csv(diretorio_empresa + '/*.csv', delimiter=';', dtype=dtypes_EMPRESA, names=EMPRESA)\n",
    "\n",
    "# unindo as tabelas\n",
    "merged = estabelecimentos.merge(empresas, on='CNPJ_BASE')\n",
    "\n",
    "merged.to_csv('merge_base/merged_data.csv', single_file=True)\n",
    "\n",
    "# mostrando as primeiras linhas\n",
    "print(merged.head())"
   ]
  },
  {
   "attachments": {},
   "cell_type": "markdown",
   "metadata": {},
   "source": [
    "## Com Vaex"
   ]
  },
  {
   "cell_type": "code",
   "execution_count": null,
   "metadata": {},
   "outputs": [],
   "source": [
    "# ler todos os arquivos csv do diretório e guardar em um objeto\n",
    "import vaex\n",
    "\n",
    "# diretórios\n",
    "diretorio_estabelecimentos = r'base_csv_empresas'\n",
    "diretorio_empresa = r'base_csv_estabelecimentos'\n",
    "\n",
    "# Parâmetros Estabelecimentos\n",
    "ESTABELE = ['CNPJ_BASE','CNPJ_ORDEM','CNPJ_DV','NOME_FANTASIA','TIPO_LOGRADOURO','LOGRADOURO','NUMERO','COMPLEMENTO','BAIRRO','CEP','UF','MUNICIPIO']\n",
    "dtypes_ESTABELE = {'CNPJ_BASE': 'category',\n",
    "'CNPJ_ORDEM': 'category',\n",
    "'CNPJ_DV': 'category'}\n",
    "\n",
    "# Parâmetros Empresas\n",
    "EMPRESA = ['CNPJ_BASE', 'RAZAO_SOCIAL']\n",
    "dtypes_EMPRESA = {'CNPJ_BASE': 'category'}\n",
    "\n",
    "# Lendo os arquivos\n",
    "estabelecimentos = vaex.open(diretorio_estabelecimentos + '/*.csv', delimiter=';')\n",
    "empresas = vaex.open(diretorio_empresa + '/*.csv', delimiter=';')\n",
    "\n",
    "# unindo as tabelas\n",
    "merged = estabelecimentos.join(empresas, on='CNPJ_BASE')\n",
    "\n",
    "# mostrando as primeiras linhas\n",
    "print(merged.head())"
   ]
  },
  {
   "cell_type": "code",
   "execution_count": 7,
   "metadata": {},
   "outputs": [],
   "source": [
    "import pandas as pd\n",
    "import json\n",
    "dados = pd.read_csv(r'merge_base\\merged_data_0.csv')\n",
    "municipios = pd.read_csv('Municipios\\municipios.csv', sep=';', names=['MUNICIPIO','CIDADE'])\n",
    "dados = dados[['CNPJ_BASE', 'CNPJ', 'NOME_FANTASIA', 'RAZAO_SOCIAL', 'TIPO_LOGRADOURO', 'LOGRADOURO', 'NUMERO', 'COMPLEMENTO', 'BAIRRO',\n",
    "       'CEP', 'UF', 'MUNICIPIO']]\n",
    "merged_data = pd.merge(dados, municipios, on='MUNICIPIO')\n",
    "merged_data.drop(columns='MUNICIPIO', inplace=True)\n",
    "merged_data.to_csv(r'merge_base\\merged_data_0.csv', index=False)\n"
   ]
  },
  {
   "cell_type": "code",
   "execution_count": 9,
   "metadata": {},
   "outputs": [
    {
     "name": "stderr",
     "output_type": "stream",
     "text": [
      "C:\\Users\\ABRASEL NACIONAL\\AppData\\Local\\Temp\\ipykernel_1296\\3541981209.py:2: SettingWithCopyWarning: \n",
      "A value is trying to be set on a copy of a slice from a DataFrame.\n",
      "Try using .loc[row_indexer,col_indexer] = value instead\n",
      "\n",
      "See the caveats in the documentation: https://pandas.pydata.org/pandas-docs/stable/user_guide/indexing.html#returning-a-view-versus-a-copy\n",
      "  quinhentos_dados['RUA'] = quinhentos_dados['TIPO_LOGRADOURO'] + quinhentos_dados['LOGRADOURO']\n"
     ]
    },
    {
     "ename": "KeyError",
     "evalue": "\"['ESTADO'] not in index\"",
     "output_type": "error",
     "traceback": [
      "\u001b[1;31m---------------------------------------------------------------------------\u001b[0m",
      "\u001b[1;31mKeyError\u001b[0m                                  Traceback (most recent call last)",
      "Cell \u001b[1;32mIn[9], line 4\u001b[0m\n\u001b[0;32m      2\u001b[0m quinhentos_dados[\u001b[39m'\u001b[39m\u001b[39mRUA\u001b[39m\u001b[39m'\u001b[39m] \u001b[39m=\u001b[39m quinhentos_dados[\u001b[39m'\u001b[39m\u001b[39mTIPO_LOGRADOURO\u001b[39m\u001b[39m'\u001b[39m] \u001b[39m+\u001b[39m quinhentos_dados[\u001b[39m'\u001b[39m\u001b[39mLOGRADOURO\u001b[39m\u001b[39m'\u001b[39m]\n\u001b[0;32m      3\u001b[0m quinhentos_dados\u001b[39m.\u001b[39mrename(columns\u001b[39m=\u001b[39m{\u001b[39m'\u001b[39m\u001b[39mUF\u001b[39m\u001b[39m'\u001b[39m:\u001b[39m'\u001b[39m\u001b[39mESTADO\u001b[39m\u001b[39m'\u001b[39m})\n\u001b[1;32m----> 4\u001b[0m quinhentos_dados \u001b[39m=\u001b[39m quinhentos_dados[[\u001b[39m'\u001b[39;49m\u001b[39mCNPJ\u001b[39;49m\u001b[39m'\u001b[39;49m, \u001b[39m'\u001b[39;49m\u001b[39mRAZAO_SOCIAL\u001b[39;49m\u001b[39m'\u001b[39;49m, \u001b[39m'\u001b[39;49m\u001b[39mNOME_FANTASIA\u001b[39;49m\u001b[39m'\u001b[39;49m,\u001b[39m'\u001b[39;49m\u001b[39mRUA\u001b[39;49m\u001b[39m'\u001b[39;49m,\u001b[39m'\u001b[39;49m\u001b[39mCOMPLEMENTO\u001b[39;49m\u001b[39m'\u001b[39;49m, \u001b[39m'\u001b[39;49m\u001b[39mBAIRRO\u001b[39;49m\u001b[39m'\u001b[39;49m,\u001b[39m'\u001b[39;49m\u001b[39mCIDADE\u001b[39;49m\u001b[39m'\u001b[39;49m,\u001b[39m'\u001b[39;49m\u001b[39mESTADO\u001b[39;49m\u001b[39m'\u001b[39;49m,\u001b[39m'\u001b[39;49m\u001b[39mCEP\u001b[39;49m\u001b[39m'\u001b[39;49m]]\n\u001b[0;32m      5\u001b[0m quinhentos_dados\u001b[39m.\u001b[39mto_json(\u001b[39m'\u001b[39m\u001b[39mamosta_cnpj.json\u001b[39m\u001b[39m'\u001b[39m, orient\u001b[39m=\u001b[39m\u001b[39m'\u001b[39m\u001b[39mrecords\u001b[39m\u001b[39m'\u001b[39m)\n",
      "File \u001b[1;32mc:\\Users\\ABRASEL NACIONAL\\Documents\\GitHub\\ambientes_virtuais\\.venv\\lib\\site-packages\\pandas\\core\\frame.py:3813\u001b[0m, in \u001b[0;36mDataFrame.__getitem__\u001b[1;34m(self, key)\u001b[0m\n\u001b[0;32m   3811\u001b[0m     \u001b[39mif\u001b[39;00m is_iterator(key):\n\u001b[0;32m   3812\u001b[0m         key \u001b[39m=\u001b[39m \u001b[39mlist\u001b[39m(key)\n\u001b[1;32m-> 3813\u001b[0m     indexer \u001b[39m=\u001b[39m \u001b[39mself\u001b[39;49m\u001b[39m.\u001b[39;49mcolumns\u001b[39m.\u001b[39;49m_get_indexer_strict(key, \u001b[39m\"\u001b[39;49m\u001b[39mcolumns\u001b[39;49m\u001b[39m\"\u001b[39;49m)[\u001b[39m1\u001b[39m]\n\u001b[0;32m   3815\u001b[0m \u001b[39m# take() does not accept boolean indexers\u001b[39;00m\n\u001b[0;32m   3816\u001b[0m \u001b[39mif\u001b[39;00m \u001b[39mgetattr\u001b[39m(indexer, \u001b[39m\"\u001b[39m\u001b[39mdtype\u001b[39m\u001b[39m\"\u001b[39m, \u001b[39mNone\u001b[39;00m) \u001b[39m==\u001b[39m \u001b[39mbool\u001b[39m:\n",
      "File \u001b[1;32mc:\\Users\\ABRASEL NACIONAL\\Documents\\GitHub\\ambientes_virtuais\\.venv\\lib\\site-packages\\pandas\\core\\indexes\\base.py:6070\u001b[0m, in \u001b[0;36mIndex._get_indexer_strict\u001b[1;34m(self, key, axis_name)\u001b[0m\n\u001b[0;32m   6067\u001b[0m \u001b[39melse\u001b[39;00m:\n\u001b[0;32m   6068\u001b[0m     keyarr, indexer, new_indexer \u001b[39m=\u001b[39m \u001b[39mself\u001b[39m\u001b[39m.\u001b[39m_reindex_non_unique(keyarr)\n\u001b[1;32m-> 6070\u001b[0m \u001b[39mself\u001b[39;49m\u001b[39m.\u001b[39;49m_raise_if_missing(keyarr, indexer, axis_name)\n\u001b[0;32m   6072\u001b[0m keyarr \u001b[39m=\u001b[39m \u001b[39mself\u001b[39m\u001b[39m.\u001b[39mtake(indexer)\n\u001b[0;32m   6073\u001b[0m \u001b[39mif\u001b[39;00m \u001b[39misinstance\u001b[39m(key, Index):\n\u001b[0;32m   6074\u001b[0m     \u001b[39m# GH 42790 - Preserve name from an Index\u001b[39;00m\n",
      "File \u001b[1;32mc:\\Users\\ABRASEL NACIONAL\\Documents\\GitHub\\ambientes_virtuais\\.venv\\lib\\site-packages\\pandas\\core\\indexes\\base.py:6133\u001b[0m, in \u001b[0;36mIndex._raise_if_missing\u001b[1;34m(self, key, indexer, axis_name)\u001b[0m\n\u001b[0;32m   6130\u001b[0m     \u001b[39mraise\u001b[39;00m \u001b[39mKeyError\u001b[39;00m(\u001b[39mf\u001b[39m\u001b[39m\"\u001b[39m\u001b[39mNone of [\u001b[39m\u001b[39m{\u001b[39;00mkey\u001b[39m}\u001b[39;00m\u001b[39m] are in the [\u001b[39m\u001b[39m{\u001b[39;00maxis_name\u001b[39m}\u001b[39;00m\u001b[39m]\u001b[39m\u001b[39m\"\u001b[39m)\n\u001b[0;32m   6132\u001b[0m not_found \u001b[39m=\u001b[39m \u001b[39mlist\u001b[39m(ensure_index(key)[missing_mask\u001b[39m.\u001b[39mnonzero()[\u001b[39m0\u001b[39m]]\u001b[39m.\u001b[39munique())\n\u001b[1;32m-> 6133\u001b[0m \u001b[39mraise\u001b[39;00m \u001b[39mKeyError\u001b[39;00m(\u001b[39mf\u001b[39m\u001b[39m\"\u001b[39m\u001b[39m{\u001b[39;00mnot_found\u001b[39m}\u001b[39;00m\u001b[39m not in index\u001b[39m\u001b[39m\"\u001b[39m)\n",
      "\u001b[1;31mKeyError\u001b[0m: \"['ESTADO'] not in index\""
     ]
    }
   ],
   "source": [
    "quinhentos_dados = merged_data.iloc[0:501]\n",
    "quinhentos_dados['RUA'] = quinhentos_dados['TIPO_LOGRADOURO'] + quinhentos_dados['LOGRADOURO']\n",
    "quinhentos_dados.rename(columns={'UF':'ESTADO'}, inplace=True)\n",
    "quinhentos_dados = quinhentos_dados[['CNPJ', 'RAZAO_SOCIAL', 'NOME_FANTASIA','RUA','COMPLEMENTO', 'BAIRRO','CIDADE','ESTADO','CEP']]\n",
    "quinhentos_dados.to_json('amosta_cnpj.json', orient='records')"
   ]
  }
 ],
 "metadata": {
  "kernelspec": {
   "display_name": ".venv",
   "language": "python",
   "name": "python3"
  },
  "language_info": {
   "codemirror_mode": {
    "name": "ipython",
    "version": 3
   },
   "file_extension": ".py",
   "mimetype": "text/x-python",
   "name": "python",
   "nbconvert_exporter": "python",
   "pygments_lexer": "ipython3",
   "version": "3.10.7"
  },
  "orig_nbformat": 4,
  "vscode": {
   "interpreter": {
    "hash": "465f3240c705e114775d45e157a4be42874ea6b4e87cdb94562b07dda2a3eba8"
   }
  }
 },
 "nbformat": 4,
 "nbformat_minor": 2
}
