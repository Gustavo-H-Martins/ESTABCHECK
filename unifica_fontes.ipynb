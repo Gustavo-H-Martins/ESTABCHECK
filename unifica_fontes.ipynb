{
 "cells": [
  {
   "cell_type": "code",
   "execution_count": 1,
   "metadata": {},
   "outputs": [],
   "source": [
    "# ler todos os arquivos csv do diretório e guardar em um objeto\n",
    "# import required modules\n",
    "import numpy as np\n",
    "import time\n",
    "import os\n",
    "import re\n",
    "import pandas as pd\n",
    "from dask import dataframe as dd\n",
    "import glob\n",
    "\n",
    "#Warnings: Possui uma série de funções e comandos para tratamento de mensagens de avisos e alertas do Python\n",
    "import warnings\n",
    "warnings.filterwarnings(\"ignore\")\n",
    "\n",
    "#Comando para exibir todas colunas do arquivo\n",
    "pd.set_option('display.max_columns', None)\n",
    "pd.set_option('display.max_rows', None)\n"
   ]
  },
  {
   "attachments": {},
   "cell_type": "markdown",
   "metadata": {},
   "source": [
    "## Com Pandas"
   ]
  },
  {
   "cell_type": "code",
   "execution_count": null,
   "metadata": {},
   "outputs": [],
   "source": [
    "# ler todos os arquivos csv do diretório e guardar em um objeto\n",
    "import numpy as np\n",
    "import time\n",
    "import os\n",
    "import re\n",
    "import pandas as pd\n",
    "from dask import dataframe as dd\n",
    "import glob\n",
    "\n",
    "#Warnings: Possui uma série de funções e comandos para tratamento de mensagens de avisos e alertas do Python\n",
    "import warnings\n",
    "warnings.filterwarnings(\"ignore\")\n",
    "\n",
    "# diretórios\n",
    "diretorio_estabelecimentos = r'base_csv_empresas'\n",
    "diretorio_empresa = r'base_csv_estabelecimentos'\n",
    "\n",
    "# Parâmetros Estabelecimentos\n",
    "ESTABELE = ['CNPJ_BASE','CNPJ_ORDEM','CNPJ_DV','NOME_FANTASIA','TIPO_LOGRADOURO','LOGRADOURO','NUMERO','COMPLEMENTO','BAIRRO','CEP','UF','MUNICIPIO']\n",
    "dtypes_ESTABELE = {'CNPJ_BASE': 'category',\n",
    "'CNPJ_ORDEM': 'category',\n",
    "'CNPJ_DV': 'category'}\n",
    "\n",
    "path = f'{diretorio_estabelecimentos}/*.csv'\n",
    "all_files_estabelecimentos = glob.glob(path)\n",
    "\n",
    "lista_df_estabelecimentos = []\n",
    "for file in all_files_estabelecimentos:\n",
    "    d_estabelecimento = pd.read_csv(file, \n",
    "    sep=';', \n",
    "    dtype=dtypes_ESTABELE, \n",
    "    names=ESTABELE)\n",
    "    lista_df_estabelecimentos.append(d_estabelecimento)\n",
    "\n",
    "estabelecimentos = pd.concat(lista_df_estabelecimentos, axis=0, ignore_index=True)\n",
    "\n",
    "# Parâmetros Empresas\n",
    "EMPRESA = ['CNPJ_BASE', 'RAZAO_SOCIAL']\n",
    "dtypes_EMPRESA = {'CNPJ_BASE': 'category'}\n",
    "\n",
    "path = f'{diretorio_empresa}/*.csv'\n",
    "all_files_empresa = glob.glob(path)\n",
    "\n",
    "lista_df_empresas = []\n",
    "for file in all_files_empresa:\n",
    "    d_empresa = pd.read_csv(file,\n",
    "        sep=';',\n",
    "        dtype=dtypes_EMPRESA, \n",
    "        names=EMPRESA)\n",
    "    #lista_df_empresas.append(d_empresa)\n",
    "\n",
    "    #empresas = pd.concat(lista_df_empresas, axis=0, ignore_index=True)\n",
    "\n",
    "    merged_data = pd.merge(estabelecimentos, d_empresa, on='CNPJ_BASE')\n",
    "\n",
    "    chunk_size = 1000000\n",
    "    for i in range(0, len(merged_data), chunk_size):\n",
    "        df_chunk = merged_data.iloc[i:i+chunk_size]\n",
    "        df_chunk.to_csv(f'merge_base/merged_data_{i}.csv', mode='a', index=False)"
   ]
  },
  {
   "attachments": {},
   "cell_type": "markdown",
   "metadata": {},
   "source": [
    "## Com Dask"
   ]
  },
  {
   "cell_type": "code",
   "execution_count": null,
   "metadata": {},
   "outputs": [],
   "source": [
    "# ler todos os arquivos csv do diretório e guardar em um objeto\n",
    "import dask.dataframe as dd\n",
    "import pandas as pd\n",
    "\n",
    "# diretórios\n",
    "diretorio_estabelecimentos = r'base_csv_empresas'\n",
    "diretorio_empresa = r'base_csv_estabelecimentos'\n",
    "\n",
    "# Parâmetros Estabelecimentos\n",
    "ESTABELE = ['CNPJ_BASE','CNPJ_ORDEM','CNPJ_DV','NOME_FANTASIA','TIPO_LOGRADOURO','LOGRADOURO','NUMERO','COMPLEMENTO','BAIRRO','CEP','UF','MUNICIPIO']\n",
    "dtypes_ESTABELE = {'CNPJ_BASE': 'category',\n",
    "'CNPJ_ORDEM': 'category',\n",
    "'CNPJ_DV': 'category'}\n",
    "\n",
    "# Parâmetros Empresas\n",
    "EMPRESA = ['CNPJ_BASE', 'RAZAO_SOCIAL']\n",
    "dtypes_EMPRESA = {'CNPJ_BASE': 'category'}\n",
    "\n",
    "# Lendo os arquivos\n",
    "estabelecimentos = dd.read_csv(diretorio_estabelecimentos + '/*.csv', delimiter=';',  dtype=dtypes_ESTABELE, names=ESTABELE)\n",
    "empresas = dd.read_csv(diretorio_empresa + '/*.csv', delimiter=';', dtype=dtypes_EMPRESA, names=EMPRESA)\n",
    "\n",
    "# unindo as tabelas\n",
    "merged = estabelecimentos.merge(empresas, on='CNPJ_BASE')\n",
    "\n",
    "merged.to_csv('merge_base/merged_data.csv', single_file=True)\n",
    "\n",
    "# mostrando as primeiras linhas\n",
    "print(merged.head())"
   ]
  },
  {
   "attachments": {},
   "cell_type": "markdown",
   "metadata": {},
   "source": [
    "## Com Vaex"
   ]
  },
  {
   "cell_type": "code",
   "execution_count": null,
   "metadata": {},
   "outputs": [],
   "source": [
    "# ler todos os arquivos csv do diretório e guardar em um objeto\n",
    "import vaex\n",
    "\n",
    "# diretórios\n",
    "diretorio_estabelecimentos = r'base_csv_empresas'\n",
    "diretorio_empresa = r'base_csv_estabelecimentos'\n",
    "\n",
    "# Parâmetros Estabelecimentos\n",
    "ESTABELE = ['CNPJ_BASE','CNPJ_ORDEM','CNPJ_DV','NOME_FANTASIA','TIPO_LOGRADOURO','LOGRADOURO','NUMERO','COMPLEMENTO','BAIRRO','CEP','UF','MUNICIPIO']\n",
    "dtypes_ESTABELE = {'CNPJ_BASE': 'category',\n",
    "'CNPJ_ORDEM': 'category',\n",
    "'CNPJ_DV': 'category'}\n",
    "\n",
    "# Parâmetros Empresas\n",
    "EMPRESA = ['CNPJ_BASE', 'RAZAO_SOCIAL']\n",
    "dtypes_EMPRESA = {'CNPJ_BASE': 'category'}\n",
    "\n",
    "# Lendo os arquivos\n",
    "estabelecimentos = vaex.open(diretorio_estabelecimentos + '/*.csv', delimiter=';')\n",
    "empresas = vaex.open(diretorio_empresa + '/*.csv', delimiter=';')\n",
    "\n",
    "# unindo as tabelas\n",
    "merged = estabelecimentos.join(empresas, on='CNPJ_BASE')\n",
    "\n",
    "# mostrando as primeiras linhas\n",
    "print(merged.head())"
   ]
  },
  {
   "cell_type": "code",
   "execution_count": 7,
   "metadata": {},
   "outputs": [],
   "source": [
    "import pandas as pd\n",
    "import json\n",
    "dados = pd.read_csv(r'merge_base\\merged_data_0.csv')\n",
    "municipios = pd.read_csv('Municipios\\municipios.csv', sep=';', names=['MUNICIPIO','CIDADE'])\n",
    "dados = dados[['CNPJ_BASE', 'CNPJ', 'NOME_FANTASIA', 'RAZAO_SOCIAL', 'TIPO_LOGRADOURO', 'LOGRADOURO', 'NUMERO', 'COMPLEMENTO', 'BAIRRO',\n",
    "       'CEP', 'UF', 'MUNICIPIO']]\n",
    "merged_data = pd.merge(dados, municipios, on='MUNICIPIO')\n",
    "merged_data.drop(columns='MUNICIPIO', inplace=True)\n",
    "merged_data.to_csv(r'merge_base\\merged_data_0.csv', index=False)\n"
   ]
  },
  {
   "cell_type": "code",
   "execution_count": 10,
   "metadata": {},
   "outputs": [
    {
     "name": "stderr",
     "output_type": "stream",
     "text": [
      "C:\\Users\\ABRASEL NACIONAL\\AppData\\Local\\Temp\\ipykernel_1296\\2804179155.py:2: SettingWithCopyWarning: \n",
      "A value is trying to be set on a copy of a slice from a DataFrame.\n",
      "Try using .loc[row_indexer,col_indexer] = value instead\n",
      "\n",
      "See the caveats in the documentation: https://pandas.pydata.org/pandas-docs/stable/user_guide/indexing.html#returning-a-view-versus-a-copy\n",
      "  quinhentos_dados['RUA'] = quinhentos_dados['TIPO_LOGRADOURO'] + quinhentos_dados['LOGRADOURO']\n",
      "C:\\Users\\ABRASEL NACIONAL\\AppData\\Local\\Temp\\ipykernel_1296\\2804179155.py:3: SettingWithCopyWarning: \n",
      "A value is trying to be set on a copy of a slice from a DataFrame\n",
      "\n",
      "See the caveats in the documentation: https://pandas.pydata.org/pandas-docs/stable/user_guide/indexing.html#returning-a-view-versus-a-copy\n",
      "  quinhentos_dados.rename(columns={'UF':'ESTADO'}, inplace=True)\n"
     ]
    }
   ],
   "source": [
    "quinhentos_dados = merged_data.iloc[0:501]\n",
    "quinhentos_dados['RUA'] = quinhentos_dados['TIPO_LOGRADOURO'] + quinhentos_dados['LOGRADOURO']\n",
    "quinhentos_dados.rename(columns={'UF':'ESTADO'}, inplace=True)\n",
    "quinhentos_dados = quinhentos_dados[['CNPJ', 'RAZAO_SOCIAL', 'NOME_FANTASIA','RUA','COMPLEMENTO', 'BAIRRO','CIDADE','ESTADO','CEP']]\n",
    "quinhentos_dados.to_json('amosta_cnpj.json', orient='records')"
   ]
  },
  {
   "cell_type": "code",
   "execution_count": 9,
   "metadata": {},
   "outputs": [
    {
     "ename": "error",
     "evalue": "unterminated character set at position 0",
     "output_type": "error",
     "traceback": [
      "\u001b[1;31m---------------------------------------------------------------------------\u001b[0m",
      "\u001b[1;31merror\u001b[0m                                     Traceback (most recent call last)",
      "Cell \u001b[1;32mIn[9], line 4\u001b[0m\n\u001b[0;32m      1\u001b[0m \u001b[39mimport\u001b[39;00m \u001b[39mre\u001b[39;00m\n\u001b[0;32m      2\u001b[0m file \u001b[39m=\u001b[39m \u001b[39m'\u001b[39m\u001b[39mbase_csv_estabelecimentos\u001b[39m\u001b[39m\\\u001b[39m\u001b[39mBares e outros estabelecimentos especializados em servir bebidas com entretenimento.csv\u001b[39m\u001b[39m'\u001b[39m\n\u001b[1;32m----> 4\u001b[0m name_file \u001b[39m=\u001b[39m re\u001b[39m.\u001b[39;49msub(\u001b[39mf\u001b[39;49m\u001b[39m\"\u001b[39;49m\u001b[39m[\u001b[39;49m\u001b[39m'\u001b[39;49m\u001b[39mbase_csv_estabelecimentos\u001b[39;49m\u001b[39m'\u001b[39;49m\u001b[39m,\u001b[39;49m\u001b[39m\\\u001b[39;49m\u001b[39m,.csv\u001b[39;49m\u001b[39m\"\u001b[39;49m,\u001b[39m'\u001b[39;49m\u001b[39m'\u001b[39;49m, file)\n\u001b[0;32m      6\u001b[0m name_file\n",
      "File \u001b[1;32m~\\AppData\\Local\\Programs\\Python\\Python310\\lib\\re.py:209\u001b[0m, in \u001b[0;36msub\u001b[1;34m(pattern, repl, string, count, flags)\u001b[0m\n\u001b[0;32m    202\u001b[0m \u001b[39mdef\u001b[39;00m \u001b[39msub\u001b[39m(pattern, repl, string, count\u001b[39m=\u001b[39m\u001b[39m0\u001b[39m, flags\u001b[39m=\u001b[39m\u001b[39m0\u001b[39m):\n\u001b[0;32m    203\u001b[0m \u001b[39m    \u001b[39m\u001b[39m\"\"\"Return the string obtained by replacing the leftmost\u001b[39;00m\n\u001b[0;32m    204\u001b[0m \u001b[39m    non-overlapping occurrences of the pattern in string by the\u001b[39;00m\n\u001b[0;32m    205\u001b[0m \u001b[39m    replacement repl.  repl can be either a string or a callable;\u001b[39;00m\n\u001b[0;32m    206\u001b[0m \u001b[39m    if a string, backslash escapes in it are processed.  If it is\u001b[39;00m\n\u001b[0;32m    207\u001b[0m \u001b[39m    a callable, it's passed the Match object and must return\u001b[39;00m\n\u001b[0;32m    208\u001b[0m \u001b[39m    a replacement string to be used.\"\"\"\u001b[39;00m\n\u001b[1;32m--> 209\u001b[0m     \u001b[39mreturn\u001b[39;00m _compile(pattern, flags)\u001b[39m.\u001b[39msub(repl, string, count)\n",
      "File \u001b[1;32m~\\AppData\\Local\\Programs\\Python\\Python310\\lib\\re.py:303\u001b[0m, in \u001b[0;36m_compile\u001b[1;34m(pattern, flags)\u001b[0m\n\u001b[0;32m    301\u001b[0m \u001b[39mif\u001b[39;00m \u001b[39mnot\u001b[39;00m sre_compile\u001b[39m.\u001b[39misstring(pattern):\n\u001b[0;32m    302\u001b[0m     \u001b[39mraise\u001b[39;00m \u001b[39mTypeError\u001b[39;00m(\u001b[39m\"\u001b[39m\u001b[39mfirst argument must be string or compiled pattern\u001b[39m\u001b[39m\"\u001b[39m)\n\u001b[1;32m--> 303\u001b[0m p \u001b[39m=\u001b[39m sre_compile\u001b[39m.\u001b[39;49mcompile(pattern, flags)\n\u001b[0;32m    304\u001b[0m \u001b[39mif\u001b[39;00m \u001b[39mnot\u001b[39;00m (flags \u001b[39m&\u001b[39m DEBUG):\n\u001b[0;32m    305\u001b[0m     \u001b[39mif\u001b[39;00m \u001b[39mlen\u001b[39m(_cache) \u001b[39m>\u001b[39m\u001b[39m=\u001b[39m _MAXCACHE:\n\u001b[0;32m    306\u001b[0m         \u001b[39m# Drop the oldest item\u001b[39;00m\n",
      "File \u001b[1;32m~\\AppData\\Local\\Programs\\Python\\Python310\\lib\\sre_compile.py:788\u001b[0m, in \u001b[0;36mcompile\u001b[1;34m(p, flags)\u001b[0m\n\u001b[0;32m    786\u001b[0m \u001b[39mif\u001b[39;00m isstring(p):\n\u001b[0;32m    787\u001b[0m     pattern \u001b[39m=\u001b[39m p\n\u001b[1;32m--> 788\u001b[0m     p \u001b[39m=\u001b[39m sre_parse\u001b[39m.\u001b[39;49mparse(p, flags)\n\u001b[0;32m    789\u001b[0m \u001b[39melse\u001b[39;00m:\n\u001b[0;32m    790\u001b[0m     pattern \u001b[39m=\u001b[39m \u001b[39mNone\u001b[39;00m\n",
      "File \u001b[1;32m~\\AppData\\Local\\Programs\\Python\\Python310\\lib\\sre_parse.py:955\u001b[0m, in \u001b[0;36mparse\u001b[1;34m(str, flags, state)\u001b[0m\n\u001b[0;32m    952\u001b[0m state\u001b[39m.\u001b[39mstr \u001b[39m=\u001b[39m \u001b[39mstr\u001b[39m\n\u001b[0;32m    954\u001b[0m \u001b[39mtry\u001b[39;00m:\n\u001b[1;32m--> 955\u001b[0m     p \u001b[39m=\u001b[39m _parse_sub(source, state, flags \u001b[39m&\u001b[39;49m SRE_FLAG_VERBOSE, \u001b[39m0\u001b[39;49m)\n\u001b[0;32m    956\u001b[0m \u001b[39mexcept\u001b[39;00m Verbose:\n\u001b[0;32m    957\u001b[0m     \u001b[39m# the VERBOSE flag was switched on inside the pattern.  to be\u001b[39;00m\n\u001b[0;32m    958\u001b[0m     \u001b[39m# on the safe side, we'll parse the whole thing again...\u001b[39;00m\n\u001b[0;32m    959\u001b[0m     state \u001b[39m=\u001b[39m State()\n",
      "File \u001b[1;32m~\\AppData\\Local\\Programs\\Python\\Python310\\lib\\sre_parse.py:444\u001b[0m, in \u001b[0;36m_parse_sub\u001b[1;34m(source, state, verbose, nested)\u001b[0m\n\u001b[0;32m    442\u001b[0m start \u001b[39m=\u001b[39m source\u001b[39m.\u001b[39mtell()\n\u001b[0;32m    443\u001b[0m \u001b[39mwhile\u001b[39;00m \u001b[39mTrue\u001b[39;00m:\n\u001b[1;32m--> 444\u001b[0m     itemsappend(_parse(source, state, verbose, nested \u001b[39m+\u001b[39;49m \u001b[39m1\u001b[39;49m,\n\u001b[0;32m    445\u001b[0m                        \u001b[39mnot\u001b[39;49;00m nested \u001b[39mand\u001b[39;49;00m \u001b[39mnot\u001b[39;49;00m items))\n\u001b[0;32m    446\u001b[0m     \u001b[39mif\u001b[39;00m \u001b[39mnot\u001b[39;00m sourcematch(\u001b[39m\"\u001b[39m\u001b[39m|\u001b[39m\u001b[39m\"\u001b[39m):\n\u001b[0;32m    447\u001b[0m         \u001b[39mbreak\u001b[39;00m\n",
      "File \u001b[1;32m~\\AppData\\Local\\Programs\\Python\\Python310\\lib\\sre_parse.py:550\u001b[0m, in \u001b[0;36m_parse\u001b[1;34m(source, state, verbose, nested, first)\u001b[0m\n\u001b[0;32m    548\u001b[0m this \u001b[39m=\u001b[39m sourceget()\n\u001b[0;32m    549\u001b[0m \u001b[39mif\u001b[39;00m this \u001b[39mis\u001b[39;00m \u001b[39mNone\u001b[39;00m:\n\u001b[1;32m--> 550\u001b[0m     \u001b[39mraise\u001b[39;00m source\u001b[39m.\u001b[39merror(\u001b[39m\"\u001b[39m\u001b[39munterminated character set\u001b[39m\u001b[39m\"\u001b[39m,\n\u001b[0;32m    551\u001b[0m                        source\u001b[39m.\u001b[39mtell() \u001b[39m-\u001b[39m here)\n\u001b[0;32m    552\u001b[0m \u001b[39mif\u001b[39;00m this \u001b[39m==\u001b[39m \u001b[39m\"\u001b[39m\u001b[39m]\u001b[39m\u001b[39m\"\u001b[39m \u001b[39mand\u001b[39;00m \u001b[39mset\u001b[39m:\n\u001b[0;32m    553\u001b[0m     \u001b[39mbreak\u001b[39;00m\n",
      "\u001b[1;31merror\u001b[0m: unterminated character set at position 0"
     ]
    }
   ],
   "source": [
    "import re\n",
    "file = 'base_csv_estabelecimentos\\Bares e outros estabelecimentos especializados em servir bebidas com entretenimento.csv'\n",
    "\n",
    "name_file = re.sub(\".csv\",'', file)\n",
    "name_file = re.sub(diretorio_estabelecimentos,'', file)\n",
    "\n",
    "name_file"
   ]
  }
 ],
 "metadata": {
  "kernelspec": {
   "display_name": ".venv",
   "language": "python",
   "name": "python3"
  },
  "language_info": {
   "codemirror_mode": {
    "name": "ipython",
    "version": 3
   },
   "file_extension": ".py",
   "mimetype": "text/x-python",
   "name": "python",
   "nbconvert_exporter": "python",
   "pygments_lexer": "ipython3",
   "version": "3.10.7"
  },
  "orig_nbformat": 4,
  "vscode": {
   "interpreter": {
    "hash": "465f3240c705e114775d45e157a4be42874ea6b4e87cdb94562b07dda2a3eba8"
   }
  }
 },
 "nbformat": 4,
 "nbformat_minor": 2
}
