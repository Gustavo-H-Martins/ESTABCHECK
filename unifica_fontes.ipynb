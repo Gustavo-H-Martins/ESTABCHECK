{
 "cells": [
  {
   "cell_type": "code",
   "execution_count": 1,
   "metadata": {},
   "outputs": [],
   "source": [
    "# ler todos os arquivos csv do diretório e guardar em um objeto\n",
    "# import required modules\n",
    "import numpy as np\n",
    "import time\n",
    "import os\n",
    "import re\n",
    "import pandas as pd\n",
    "from dask import dataframe as dd\n",
    "import glob\n",
    "\n",
    "#Warnings: Possui uma série de funções e comandos para tratamento de mensagens de avisos e alertas do Python\n",
    "import warnings\n",
    "warnings.filterwarnings(\"ignore\")\n",
    "\n",
    "#Comando para exibir todas colunas do arquivo\n",
    "pd.set_option('display.max_columns', None)\n",
    "pd.set_option('display.max_rows', None)\n"
   ]
  },
  {
   "attachments": {},
   "cell_type": "markdown",
   "metadata": {},
   "source": [
    "## Com Pandas"
   ]
  },
  {
   "cell_type": "code",
   "execution_count": null,
   "metadata": {},
   "outputs": [],
   "source": [
    "# ler todos os arquivos csv do diretório e guardar em um objeto\n",
    "import numpy as np\n",
    "import time\n",
    "import os\n",
    "import re\n",
    "import pandas as pd\n",
    "from dask import dataframe as dd\n",
    "import glob\n",
    "\n",
    "#Warnings: Possui uma série de funções e comandos para tratamento de mensagens de avisos e alertas do Python\n",
    "import warnings\n",
    "warnings.filterwarnings(\"ignore\")\n",
    "\n",
    "# diretórios\n",
    "diretorio_estabelecimentos = r'base_csv_empresas'\n",
    "diretorio_empresa = r'base_csv_estabelecimentos'\n",
    "\n",
    "# Parâmetros Estabelecimentos\n",
    "ESTABELE = ['CNPJ_BASE','CNPJ_ORDEM','CNPJ_DV','NOME_FANTASIA','TIPO_LOGRADOURO','LOGRADOURO','NUMERO','COMPLEMENTO','BAIRRO','CEP','UF','MUNICIPIO']\n",
    "dtypes_ESTABELE = {'CNPJ_BASE': 'category',\n",
    "'CNPJ_ORDEM': 'category',\n",
    "'CNPJ_DV': 'category'}\n",
    "\n",
    "path = f'{diretorio_estabelecimentos}/*.csv'\n",
    "all_files_estabelecimentos = glob.glob(path)\n",
    "\n",
    "lista_df_estabelecimentos = []\n",
    "for file in all_files_estabelecimentos:\n",
    "    d_estabelecimento = pd.read_csv(file, \n",
    "    sep=';', \n",
    "    dtype=dtypes_ESTABELE, \n",
    "    names=ESTABELE)\n",
    "    lista_df_estabelecimentos.append(d_estabelecimento)\n",
    "\n",
    "estabelecimentos = pd.concat(lista_df_estabelecimentos, axis=0, ignore_index=True)\n",
    "\n",
    "# Parâmetros Empresas\n",
    "EMPRESA = ['CNPJ_BASE', 'RAZAO_SOCIAL']\n",
    "dtypes_EMPRESA = {'CNPJ_BASE': 'category'}\n",
    "\n",
    "path = f'{diretorio_empresa}/*.csv'\n",
    "all_files_empresa = glob.glob(path)\n",
    "\n",
    "lista_df_empresas = []\n",
    "for file in all_files_empresa:\n",
    "    d_empresa = pd.read_csv(file,\n",
    "        sep=';',\n",
    "        dtype=dtypes_EMPRESA, \n",
    "        names=EMPRESA)\n",
    "    #lista_df_empresas.append(d_empresa)\n",
    "\n",
    "    #empresas = pd.concat(lista_df_empresas, axis=0, ignore_index=True)\n",
    "\n",
    "    merged_data = pd.merge(estabelecimentos, d_empresa, on='CNPJ_BASE')\n",
    "\n",
    "    chunk_size = 1000000\n",
    "    for i in range(0, len(merged_data), chunk_size):\n",
    "        df_chunk = merged_data.iloc[i:i+chunk_size]\n",
    "        df_chunk.to_csv(f'merge_base/merged_data_{i}.csv', mode='a', index=False)"
   ]
  },
  {
   "attachments": {},
   "cell_type": "markdown",
   "metadata": {},
   "source": [
    "## Com Dask"
   ]
  },
  {
   "cell_type": "code",
   "execution_count": null,
   "metadata": {},
   "outputs": [],
   "source": [
    "# ler todos os arquivos csv do diretório e guardar em um objeto\n",
    "import dask.dataframe as dd\n",
    "import pandas as pd\n",
    "\n",
    "# diretórios\n",
    "diretorio_estabelecimentos = r'base_csv_empresas'\n",
    "diretorio_empresa = r'base_csv_estabelecimentos'\n",
    "\n",
    "# Parâmetros Estabelecimentos\n",
    "ESTABELE = ['CNPJ_BASE','CNPJ_ORDEM','CNPJ_DV','NOME_FANTASIA','TIPO_LOGRADOURO','LOGRADOURO','NUMERO','COMPLEMENTO','BAIRRO','CEP','UF','MUNICIPIO']\n",
    "dtypes_ESTABELE = {'CNPJ_BASE': 'category',\n",
    "'CNPJ_ORDEM': 'category',\n",
    "'CNPJ_DV': 'category'}\n",
    "\n",
    "# Parâmetros Empresas\n",
    "EMPRESA = ['CNPJ_BASE', 'RAZAO_SOCIAL']\n",
    "dtypes_EMPRESA = {'CNPJ_BASE': 'category'}\n",
    "\n",
    "# Lendo os arquivos\n",
    "estabelecimentos = dd.read_csv(diretorio_estabelecimentos + '/*.csv', delimiter=';',  dtype=dtypes_ESTABELE, names=ESTABELE)\n",
    "empresas = dd.read_csv(diretorio_empresa + '/*.csv', delimiter=';', dtype=dtypes_EMPRESA, names=EMPRESA)\n",
    "\n",
    "# unindo as tabelas\n",
    "merged = estabelecimentos.merge(empresas, on='CNPJ_BASE')\n",
    "\n",
    "merged.to_csv('merge_base/merged_data.csv', single_file=True)\n",
    "\n",
    "# mostrando as primeiras linhas\n",
    "print(merged.head())"
   ]
  },
  {
   "attachments": {},
   "cell_type": "markdown",
   "metadata": {},
   "source": [
    "## Com Vaex"
   ]
  },
  {
   "cell_type": "code",
   "execution_count": null,
   "metadata": {},
   "outputs": [],
   "source": [
    "# ler todos os arquivos csv do diretório e guardar em um objeto\n",
    "import vaex\n",
    "\n",
    "# diretórios\n",
    "diretorio_estabelecimentos = r'base_csv_empresas'\n",
    "diretorio_empresa = r'base_csv_estabelecimentos'\n",
    "\n",
    "# Parâmetros Estabelecimentos\n",
    "ESTABELE = ['CNPJ_BASE','CNPJ_ORDEM','CNPJ_DV','NOME_FANTASIA','TIPO_LOGRADOURO','LOGRADOURO','NUMERO','COMPLEMENTO','BAIRRO','CEP','UF','MUNICIPIO']\n",
    "dtypes_ESTABELE = {'CNPJ_BASE': 'category',\n",
    "'CNPJ_ORDEM': 'category',\n",
    "'CNPJ_DV': 'category'}\n",
    "\n",
    "# Parâmetros Empresas\n",
    "EMPRESA = ['CNPJ_BASE', 'RAZAO_SOCIAL']\n",
    "dtypes_EMPRESA = {'CNPJ_BASE': 'category'}\n",
    "\n",
    "# Lendo os arquivos\n",
    "estabelecimentos = vaex.open(diretorio_estabelecimentos + '/*.csv', delimiter=';')\n",
    "empresas = vaex.open(diretorio_empresa + '/*.csv', delimiter=';')\n",
    "\n",
    "# unindo as tabelas\n",
    "merged = estabelecimentos.join(empresas, on='CNPJ_BASE')\n",
    "\n",
    "# mostrando as primeiras linhas\n",
    "print(merged.head())"
   ]
  },
  {
   "cell_type": "code",
   "execution_count": 7,
   "metadata": {},
   "outputs": [],
   "source": [
    "import pandas as pd\n",
    "import json\n",
    "dados = pd.read_csv(r'merge_base\\merged_data_0.csv')\n",
    "municipios = pd.read_csv('Municipios\\municipios.csv', sep=';', names=['MUNICIPIO','CIDADE'])\n",
    "dados = dados[['CNPJ_BASE', 'CNPJ', 'NOME_FANTASIA', 'RAZAO_SOCIAL', 'TIPO_LOGRADOURO', 'LOGRADOURO', 'NUMERO', 'COMPLEMENTO', 'BAIRRO',\n",
    "       'CEP', 'UF', 'MUNICIPIO']]\n",
    "merged_data = pd.merge(dados, municipios, on='MUNICIPIO')\n",
    "merged_data.drop(columns='MUNICIPIO', inplace=True)\n",
    "merged_data.to_csv(r'merge_base\\merged_data_0.csv', index=False)\n"
   ]
  },
  {
   "cell_type": "code",
   "execution_count": 10,
   "metadata": {},
   "outputs": [
    {
     "name": "stderr",
     "output_type": "stream",
     "text": [
      "C:\\Users\\ABRASEL NACIONAL\\AppData\\Local\\Temp\\ipykernel_1296\\2804179155.py:2: SettingWithCopyWarning: \n",
      "A value is trying to be set on a copy of a slice from a DataFrame.\n",
      "Try using .loc[row_indexer,col_indexer] = value instead\n",
      "\n",
      "See the caveats in the documentation: https://pandas.pydata.org/pandas-docs/stable/user_guide/indexing.html#returning-a-view-versus-a-copy\n",
      "  quinhentos_dados['RUA'] = quinhentos_dados['TIPO_LOGRADOURO'] + quinhentos_dados['LOGRADOURO']\n",
      "C:\\Users\\ABRASEL NACIONAL\\AppData\\Local\\Temp\\ipykernel_1296\\2804179155.py:3: SettingWithCopyWarning: \n",
      "A value is trying to be set on a copy of a slice from a DataFrame\n",
      "\n",
      "See the caveats in the documentation: https://pandas.pydata.org/pandas-docs/stable/user_guide/indexing.html#returning-a-view-versus-a-copy\n",
      "  quinhentos_dados.rename(columns={'UF':'ESTADO'}, inplace=True)\n"
     ]
    }
   ],
   "source": [
    "quinhentos_dados = merged_data.iloc[0:501]\n",
    "quinhentos_dados['RUA'] = quinhentos_dados['TIPO_LOGRADOURO'] + quinhentos_dados['LOGRADOURO']\n",
    "quinhentos_dados.rename(columns={'UF':'ESTADO'}, inplace=True)\n",
    "quinhentos_dados = quinhentos_dados[['CNPJ', 'RAZAO_SOCIAL', 'NOME_FANTASIA','RUA','COMPLEMENTO', 'BAIRRO','CIDADE','ESTADO','CEP']]\n",
    "quinhentos_dados.to_json('amosta_cnpj.json', orient='records')"
   ]
  }
 ],
 "metadata": {
  "kernelspec": {
   "display_name": ".venv",
   "language": "python",
   "name": "python3"
  },
  "language_info": {
   "codemirror_mode": {
    "name": "ipython",
    "version": 3
   },
   "file_extension": ".py",
   "mimetype": "text/x-python",
   "name": "python",
   "nbconvert_exporter": "python",
   "pygments_lexer": "ipython3",
   "version": "3.10.7"
  },
  "orig_nbformat": 4,
  "vscode": {
   "interpreter": {
    "hash": "465f3240c705e114775d45e157a4be42874ea6b4e87cdb94562b07dda2a3eba8"
   }
  }
 },
 "nbformat": 4,
 "nbformat_minor": 2
}
