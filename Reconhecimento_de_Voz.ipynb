{
 "cells": [
  {
   "attachments": {},
   "cell_type": "markdown",
   "metadata": {},
   "source": [
    "# Reconhecimento de Voz "
   ]
  },
  {
   "cell_type": "code",
   "execution_count": 1,
   "metadata": {},
   "outputs": [],
   "source": [
    "# Pacotes:\n",
    "import speech_recognition as sr"
   ]
  },
  {
   "cell_type": "code",
   "execution_count": 2,
   "metadata": {},
   "outputs": [
    {
     "name": "stdout",
     "output_type": "stream",
     "text": [
      "['Mapeador de som da Microsoft - Input', 'Grupo de microfones (Tecnologia', 'Mapeador de som da Microsoft - Output', 'Fones de ouvido (Realtek(R) Aud', 'Alto-falantes (Realtek(R) Audio', 'Driver de captura de som primÃ¡rio', 'Grupo de microfones (Tecnologia IntelÂ® Smart Sound para microfones digitais)', 'Driver de som primÃ¡rio', 'Fones de ouvido (Realtek(R) Audio)', 'Alto-falantes (Realtek(R) Audio)', 'Alto-falantes (Realtek(R) Audio)', 'Fones de ouvido (Realtek(R) Audio)', 'Grupo de microfones (Tecnologia IntelÂ® Smart Sound para microfones digitais)', 'Mixagem estÃ©reo (Realtek HD Audio Stereo input)', 'Microfone 1 (Realtek HD Audio Mic input with SST)', 'Microfone 2 (Realtek HD Audio Mic input with SST)', 'Headphones 1 (Realtek HD Audio 2nd output with SST)', 'Headphones 2 (Realtek HD Audio 2nd output with SST)', 'Alto-falante (Realtek HD Audio 2nd output with SST)', 'Speakers 1 (Realtek HD Audio output with SST)', 'Speakers 2 (Realtek HD Audio output with SST)', 'Alto-falante (Realtek HD Audio output with SST)', 'Grupo de microfones 1 ()', 'Grupo de microfones 2 ()', 'Grupo de microfones 3 ()']\n"
     ]
    }
   ],
   "source": [
    "# Listando microfones do terminal\n",
    "print(sr.Microphone().list_microphone_names())"
   ]
  },
  {
   "cell_type": "code",
   "execution_count": 8,
   "metadata": {},
   "outputs": [
    {
     "name": "stdout",
     "output_type": "stream",
     "text": [
      "Comece a falar para o python gravar\n",
      "result2:\n",
      "{   'alternative': [{'confidence': 0.82141513, 'transcript': 'caseira'}],\n",
      "    'final': True}\n",
      "O python entendeu que você disse o seguinte: caseira\n"
     ]
    }
   ],
   "source": [
    "# Recognize ( reconhecimento do audio no terminal)\n",
    "rec = sr.Recognizer()\n",
    "\n",
    "# Uso do with para usar o microfone e assim que sair da \n",
    "# estrutura fecha o microfone automaticamente\n",
    "texto = \"\"\n",
    "with sr.Microphone(1) as mic:\n",
    "    rec.adjust_for_ambient_noise(mic)\n",
    "    print(\"Comece a falar para o python gravar\")\n",
    "    audio =rec.listen(mic)\n",
    "    texto = rec.recognize_google(audio, language= \"pt-BR\")\n",
    "print(f\"O python entendeu que você disse o seguinte: {texto}\")\n",
    "\n"
   ]
  }
 ],
 "metadata": {
  "kernelspec": {
   "display_name": ".venv",
   "language": "python",
   "name": "python3"
  },
  "language_info": {
   "codemirror_mode": {
    "name": "ipython",
    "version": 3
   },
   "file_extension": ".py",
   "mimetype": "text/x-python",
   "name": "python",
   "nbconvert_exporter": "python",
   "pygments_lexer": "ipython3",
   "version": "3.10.7"
  },
  "orig_nbformat": 4,
  "vscode": {
   "interpreter": {
    "hash": "465f3240c705e114775d45e157a4be42874ea6b4e87cdb94562b07dda2a3eba8"
   }
  }
 },
 "nbformat": 4,
 "nbformat_minor": 2
}
